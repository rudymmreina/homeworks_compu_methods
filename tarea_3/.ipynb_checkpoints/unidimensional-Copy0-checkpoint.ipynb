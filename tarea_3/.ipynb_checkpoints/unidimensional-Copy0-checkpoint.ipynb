{
 "metadata": {
  "name": "",
  "signature": "sha256:62b2fb0f38407fb27253889ecb4fd868de38969d5ea8f04c82332386c338b768"
 },
 "nbformat": 3,
 "nbformat_minor": 0,
 "worksheets": [
  {
   "cells": [
    {
     "cell_type": "code",
     "collapsed": false,
     "input": [
      "import numpy as np\n",
      "#import matplotlib.pyplot as plt\n",
      "import random\n",
      "import math"
     ],
     "language": "python",
     "metadata": {},
     "outputs": [
      {
       "output_type": "stream",
       "stream": "stderr",
       "text": [
        "Vendor:  Continuum Analytics, Inc.\n",
        "Package: mkl\n",
        "Message: trial mode expires in 30 days\n"
       ]
      }
     ],
     "prompt_number": 1
    },
    {
     "cell_type": "code",
     "collapsed": false,
     "input": [
      "#masa de la luna\n",
      "M_t=0.001\n",
      "#masa del sol en t\u00e9rminos a la masa de la luna\n",
      "M_s=1\n",
      "#definiendo alpha y beta\n",
      "a=(M_s)/(M_t+M_s)\n",
      "b=(M_t)/(M_t+M_s)\n",
      "#distancia entre el sol y la Luna en unidades astron\u00f3micas\n",
      "R=1\n"
     ],
     "language": "python",
     "metadata": {},
     "outputs": [],
     "prompt_number": 2
    },
    {
     "cell_type": "code",
     "collapsed": false,
     "input": [
      "#DEFINIENDO LAS FUNCIONES"
     ],
     "language": "python",
     "metadata": {},
     "outputs": [],
     "prompt_number": 3
    },
    {
     "cell_type": "code",
     "collapsed": false,
     "input": [
      "def f_3(x,y):\n",
      "    return x-((b*(x-R)*(R**3))/(((x-R)**2)+(y**2))**1.5)-((a*x*(R**3))/(((x)**2)+(y**2))**1.5)"
     ],
     "language": "python",
     "metadata": {},
     "outputs": [],
     "prompt_number": 7
    },
    {
     "cell_type": "code",
     "collapsed": false,
     "input": [
      "def dxf_3(x,y,h):\n",
      "    return (f_3(x+h,y)-f_3(x-h,y))/(2.0*h)"
     ],
     "language": "python",
     "metadata": {},
     "outputs": [],
     "prompt_number": 8
    },
    {
     "cell_type": "code",
     "collapsed": false,
     "input": [
      "#m\u00e9todo de newton Raphson "
     ],
     "language": "python",
     "metadata": {},
     "outputs": []
    },
    {
     "cell_type": "code",
     "collapsed": false,
     "input": [
      "x_guess = 4\n",
      "y=0\n",
      "h = 0.001\n",
      "while (abs(f_3(x_guess,y)) > 1E-4):\n",
      "    delta_x = -(f_3(x_guess,y))/(dxf_3(x_guess,y,h))\n",
      "    x_guess = x_guess + delta_x\n",
      "P=np.array([0,x_guess])\n",
      "print \"L_1 es\",x_guess,P"
     ],
     "language": "python",
     "metadata": {},
     "outputs": [
      {
       "output_type": "stream",
       "stream": "stdout",
       "text": [
        "L_1 es 0.932208041176 [ 0.          0.93220804]\n"
       ]
      }
     ],
     "prompt_number": 9
    },
    {
     "cell_type": "code",
     "collapsed": false,
     "input": [
      "x_guess = -2\n",
      "y=0\n",
      "h = 0.001\n",
      "while (abs(f_3(x_guess,y)) > 1E-4):\n",
      "    delta_x = -(f_3(x_guess,y))/(dxf_3(x_guess,y,h))\n",
      "    x_guess = x_guess + delta_x\n",
      "Q=np.array([0,x_guess])\n",
      "print \"L_2 es\",x_guess,Q"
     ],
     "language": "python",
     "metadata": {},
     "outputs": [
      {
       "output_type": "stream",
       "stream": "stdout",
       "text": [
        "L_2 es -0.999747694542 [ 0.         -0.99974769]\n"
       ]
      }
     ],
     "prompt_number": 10
    },
    {
     "cell_type": "code",
     "collapsed": false,
     "input": [
      "print \"L_3 no me sale :(\""
     ],
     "language": "python",
     "metadata": {},
     "outputs": [
      {
       "output_type": "stream",
       "stream": "stdout",
       "text": [
        "L_3 no me sale :(\n"
       ]
      }
     ],
     "prompt_number": 11
    },
    {
     "cell_type": "code",
     "collapsed": false,
     "input": [
      "f = open(\"puntos_lagrange.dat\", \"w\")\n",
      "f.write(\"x\"+\" \"+\"y\"+\"\\n\")\n",
      "f.write(str(P[0])+\" \"+str(P[1])+\"\\n\")\n",
      "f.write(str(Q[0])+\" \"+str(Q[1])+\"\\n\")\n",
      "f.close()"
     ],
     "language": "python",
     "metadata": {},
     "outputs": [],
     "prompt_number": 13
    },
    {
     "cell_type": "code",
     "collapsed": false,
     "input": [],
     "language": "python",
     "metadata": {},
     "outputs": []
    }
   ],
   "metadata": {}
  }
 ]
}