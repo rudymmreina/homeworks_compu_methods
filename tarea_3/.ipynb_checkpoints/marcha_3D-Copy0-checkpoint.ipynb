{
 "metadata": {
  "name": "",
  "signature": "sha256:440d9fa80b2bd97f226700494bc49f0778baac22da7c458eab2009239fb1e570"
 },
 "nbformat": 3,
 "nbformat_minor": 0,
 "worksheets": [
  {
   "cells": [
    {
     "cell_type": "code",
     "collapsed": false,
     "input": [
      "import numpy as np\n",
      "#import matplotlib.pyplot as plt\n",
      "import sys\n",
      "import random\n",
      "import math"
     ],
     "language": "python",
     "metadata": {},
     "outputs": [],
     "prompt_number": 16
    },
    {
     "cell_type": "code",
     "collapsed": false,
     "input": [
      "#print random.random()"
     ],
     "language": "python",
     "metadata": {},
     "outputs": [],
     "prompt_number": 17
    },
    {
     "cell_type": "code",
     "collapsed": false,
     "input": [
      "#variables\n",
      "#D es la distancia al que va llegar con la marcha aleatoria\n",
      "#d es la longitud del vector D\n",
      "#x,y,z posicion del objeto en coordenadas cartesianas\n",
      "#R desplazamiento del objeto en desde el origen\n",
      "#M n\u00famero de marchas aleatorias\n",
      "D = np.arange(10, 510, +10)\n",
      "d= len(D)\n",
      "M=int(sys.argv[1])\n",
      "\n",
      "#M=10"
     ],
     "language": "python",
     "metadata": {},
     "outputs": [],
     "prompt_number": 18
    },
    {
     "cell_type": "code",
     "collapsed": false,
     "input": [
      "J=[]\n",
      "for k in range(d):\n",
      "    for l in range(M):\n",
      "        r=0\n",
      "        j=0\n",
      "        x=0\n",
      "        y=0\n",
      "        z=0\n",
      "        X=0\n",
      "        Y=0\n",
      "        Z=0\n",
      "        R=0\n",
      "        while(R<=D[k]):\n",
      "            x = (x + 2.0*(random.random()-0.5))\n",
      "            y = (y + 2.0*(random.random()-0.5))\n",
      "            z = (z + 2.0*(random.random()-0.5))\n",
      "            r=((x**2)+(y**2)+(z**2))**0.5\n",
      "            X=x/r\n",
      "            Y=y/r\n",
      "            Z=Z/r\n",
      "            R=R+((X**2)+(Y**2)+(Z**2))**0.5\n",
      "            j=j+1\n",
      "        J.append(j)"
     ],
     "language": "python",
     "metadata": {},
     "outputs": [],
     "prompt_number": 19
    },
    {
     "cell_type": "code",
     "collapsed": false,
     "input": [
      "#print J\n",
      "Z=np.reshape(J,(d,M))\n",
      "#print Z"
     ],
     "language": "python",
     "metadata": {},
     "outputs": [],
     "prompt_number": 20
    },
    {
     "cell_type": "code",
     "collapsed": false,
     "input": [
      "def estadistica(valores):\n",
      "    suma=0\n",
      "    for x in valores:\n",
      "        suma+=x\n",
      "       # print x\n",
      "    prom=suma/float(len(valores))\n",
      "    #print prom\n",
      "    suma_dif_cuadrado=0\n",
      "    for x in valores:\n",
      "        suma_dif_cuadrado+=(prom-x)**2\n",
      "        #print suma_dif_cuadrado\n",
      "    varianza=suma_dif_cuadrado/float(len(valores)-1)\n",
      "    return prom, math.sqrt(varianza)"
     ],
     "language": "python",
     "metadata": {},
     "outputs": [],
     "prompt_number": 26
    },
    {
     "cell_type": "code",
     "collapsed": false,
     "input": [
      "def promedio(valores):\n",
      "    s=sum(valores)/len(valores)\n",
      "    return s"
     ],
     "language": "python",
     "metadata": {},
     "outputs": [],
     "prompt_number": 27
    },
    {
     "cell_type": "code",
     "collapsed": false,
     "input": [
      "print Z[0]"
     ],
     "language": "python",
     "metadata": {},
     "outputs": [
      {
       "output_type": "stream",
       "stream": "stdout",
       "text": [
        "[15 14 14 15 11 13 14 16 13 12]\n"
       ]
      }
     ],
     "prompt_number": 28
    },
    {
     "cell_type": "code",
     "collapsed": false,
     "input": [
      "s=estadistica(Z[0])"
     ],
     "language": "python",
     "metadata": {},
     "outputs": [],
     "prompt_number": 29
    },
    {
     "cell_type": "code",
     "collapsed": false,
     "input": [
      "for i in range(len(Z)):\n",
      "    s=estadistica(Z[i])\n",
      "    A=np.array( [D[i],s[0],s[1]])\n",
      "    print A"
     ],
     "language": "python",
     "metadata": {},
     "outputs": [
      {
       "output_type": "stream",
       "stream": "stdout",
       "text": [
        "[ 10.          13.7          1.49443412]\n",
        "[ 20.          27.5          4.69633427]\n",
        "[ 30.          34.3          1.33749351]\n",
        "[ 40.          55.          15.37675013]\n",
        "[ 50.         72.8        17.3768684]\n",
        "[ 60.          92.1         45.51056044]\n",
        "[  70.          105.2          48.98707312]\n",
        "[  80.          111.7          24.42698872]\n",
        "[  90.         106.5         11.9652274]\n",
        "[ 100.          112.            9.40449065]\n",
        "[ 110.          157.8          39.62827274]\n",
        "[ 120.          165.8          32.42358538]\n",
        "[ 130.          160.1          26.11278954]\n",
        "[ 140.          194.6          27.97697466]\n",
        "[ 150.          188.7          22.72565853]\n",
        "[ 160.          215.2          55.82870628]\n",
        "[ 170.          208.8          29.01264092]\n",
        "[ 180.          241.7          63.52611012]\n",
        "[ 190.          265.9         120.29727068]\n",
        "[ 200.          294.9          98.28354672]\n",
        "[ 210.          306.9         114.36243556]\n",
        "[ 220.          270.9          35.29069755]\n",
        "[ 230.          344.6          97.52971057]\n",
        "[ 240.          285.7          33.47652577]\n",
        "[ 250.          313.4          38.35274871]\n",
        "[ 260.         331.          73.4635208]\n",
        "[ 270.          347.           65.49978796]\n",
        "[ 280.         346.2         58.0551462]\n",
        "[ 290.          370.9          55.73438994]\n",
        "[ 300.          401.7          69.14726636]\n",
        "[ 310.          398.2          99.82406746]\n",
        "[ 320.          409.8          54.96018761]\n",
        "[ 330.          420.           56.72350091]\n",
        "[ 340.          433.4          76.67130421]\n",
        "[ 350.          493.9         166.69896354]\n",
        "[ 360.          471.1         120.27879651]\n",
        "[ 370.          520.8         173.48442133]\n",
        "[ 380.          544.7         187.33810789]\n",
        "[ 390.          473.7          49.55815888]\n",
        "[ 400.          485.3          56.89766642]\n",
        "[ 410.          568.6         193.07350356]\n",
        "[ 420.          483.9          59.05073148]\n",
        "[ 430.          646.9         268.38713746]\n",
        "[ 440.          560.          105.81220261]\n",
        "[ 450.          596.8         142.08276148]\n",
        "[ 460.          568.5         130.69408726]\n",
        "[ 470.          586.4          94.83459284]\n",
        "[ 480.          621.3         123.62222921]\n",
        "[ 490.          578.2          34.56330745]\n",
        "[ 500.          634.3         125.00493324]\n"
       ]
      }
     ],
     "prompt_number": 33
    },
    {
     "cell_type": "code",
     "collapsed": false,
     "input": [
      "f = open(\"final_stats_3D_M.dat\", \"w\")\n",
      "for i in range(len(Z)):\n",
      "    s=estadistica(Z[i])\n",
      "    A=np.array( [D[i],s[0],s[1]])\n",
      "    f.write(str(D[i])+\" \"+str(s[0])+\" \"+str(s[1])+\"\\n\")\n",
      "f.close()"
     ],
     "language": "python",
     "metadata": {},
     "outputs": [],
     "prompt_number": 34
    },
    {
     "cell_type": "code",
     "collapsed": false,
     "input": [],
     "language": "python",
     "metadata": {},
     "outputs": []
    }
   ],
   "metadata": {}
  }
 ]
}