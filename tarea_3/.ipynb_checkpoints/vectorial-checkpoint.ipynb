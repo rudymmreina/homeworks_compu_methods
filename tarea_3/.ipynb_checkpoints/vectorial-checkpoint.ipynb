{
 "metadata": {
  "name": "",
  "signature": "sha256:60f5dd99202229d0dbd8da3048a55615aa2024d19dfab67de38b36b43da3d119"
 },
 "nbformat": 3,
 "nbformat_minor": 0,
 "worksheets": [
  {
   "cells": [
    {
     "cell_type": "code",
     "collapsed": false,
     "input": [
      "%pylab inline\n",
      "import matplotlib.pyplot as plt\n",
      "from mpl_toolkits.mplot3d.axes3d import Axes3D\n"
     ],
     "language": "python",
     "metadata": {},
     "outputs": [
      {
       "output_type": "stream",
       "stream": "stdout",
       "text": [
        "Populating the interactive namespace from numpy and matplotlib\n"
       ]
      },
      {
       "output_type": "stream",
       "stream": "stderr",
       "text": [
        "Vendor:  Continuum Analytics, Inc.\n",
        "Package: mkl\n",
        "Message: trial mode expires in 30 days\n"
       ]
      }
     ],
     "prompt_number": 2
    },
    {
     "cell_type": "heading",
     "level": 1,
     "metadata": {},
     "source": [
      "Puntos de Lagrange"
     ]
    },
    {
     "cell_type": "markdown",
     "metadata": {},
     "source": [
      "Sea un sistema de tres cuerpos donde estan sometidos s\u00f3lo a fuerzas gravitacionales, existen 5 puntos de equilibrio llamados puntos de Lagrange. Por ejemplo, se tienen dos cuerpos grandes en \u00f3rbita circular alrededor de su centro de masas com\u00fan, hay cinco posiciones en el espacio donde un tercer cuerpo, de masa despreciable frente a la de los otros dos, que puede estar situado y mantener su posici\u00f3n relativa respecto a los dos cuerpos grandes.\n",
      "\n",
      "Para encontrar dichos puntos, se considera que:\n",
      "\n",
      "Las masas $M_1$ y $M_2$ son mucho m\u00e1s masivas que el tercer cuerpo $m$.\n",
      "Las masas siguen una \u00f3rbita circular\n",
      "\n",
      "Se busca la soluci\u00f3n a la ecuaci\u00f3n de movimiento en donde la distancia entre los tres cuerpos se mantenga constante.\n",
      "Si $M_1$ y $M_2$ son las masas y $\\vec{r_1}$ y $\\vec{r_2}$ son sus posiciones respectivas. Entonces la fuerza sobre la masa $m$ dadas $M_1$ y $M_2$ (cuyo vector posici\u00f3n es $r$) en un sistema de referencia inercial, estar\u00e1 dado por\n",
      "\n",
      "\n",
      "$$\n",
      "\\vec{F}=-\\frac{G M_1 m (\\vec{r}-\\vec{r_1}) }{|{\\vec{r}-\\vec{r_1}}|^{3} }-\\frac{G M_2 m (\\vec{r}-\\vec{r_2}) }{|{\\vec{r}-\\vec{r_2}}|^{3} }\n",
      "$$                    "
     ]
    },
    {
     "cell_type": "markdown",
     "metadata": {},
     "source": [
      "Para encontrar los puntos de una manera m\u00e1s f\u00e1cil, se considera un marco de referencia no inercial de tal manera que los cuerpos $M_1$ y $M_2$ se mantengan fijos, cuyo origen sea el centro de masas y frecuencia rotacional este dada por:\n",
      "\n",
      "\n",
      "$$\\Omega^2 R^3=G(M_1 + M_2)$$\n",
      "\n",
      "donde $R$ es la distancia entre las dos masas.\n",
      "\n",
      "La fuerza efectiva en el sistema rotacional esta relacionada con la fuerza en el sistema inercial de la siguiente manera:\n",
      "\n",
      "$$\\vec{F}_{\\Omega}= \\vec{F}-2m \\Big(\\vec{\\Omega} \\times \\frac{d\\vec{r}}{dt}\\Big) -m \\vec{\\Omega} \\times \\Big( \\vec{\\Omega}\\times\\vec{r}\\Big)$$\n",
      "\n",
      "Escogiendo un sistema de referencia en el centro de masa, la masa $m$ s\u00f3lo se mover\u00e1 en el plano que determina la velocidad angular $\\Omega$. De tal manera que reescribiendo las posiciones de las masas en este sistema de referencia ser\u00e1:\n",
      "\n",
      "$$\\vec{\\Omega}=\\Omega \\hat{k}$$\n",
      "\n",
      "$$\\vec{r}=x(t)\\hat{i}+y(t)\\hat{j}$$\n",
      "\n",
      "$$\\vec{r_1}=-\\alpha R \\hat{i}$$\n",
      "\n",
      "$$\\vec{r_2}=\\beta R \\hat{i}$$\n",
      "\n",
      "donde \n",
      "\n",
      "$$\\alpha=\\frac{M_2}{M_1+M_2}          \\; \\;     \\beta=\\frac{M_1}{M_1+M_2}$$\n",
      "\n"
     ]
    },
    {
     "cell_type": "markdown",
     "metadata": {},
     "source": [
      "Para encontrar la soluci\u00f3n estacionaria a la ecuaci\u00f3n de movimiento $\\vec{F_{\\Omega}}$ se iguala a cero, adem\u00e1s se debe tener en cuenta que para los puntos de equilibrio estables se considetara que $\\frac{d\\vec{r}}{dt}$ es igual a cero. Reemplazando $\\vec{\\Omega}$, $\\vec{r_1}$, $\\vec{r_2}$ y $\\vec{F}$ en $\\vec{F_{\\Omega}}$, se tiene:\n"
     ]
    },
    {
     "cell_type": "markdown",
     "metadata": {},
     "source": [
      "$$\\vec{F}_{\\Omega}= -\\frac{G M_1 m (\\vec{r}-\\vec{r_1}) }{|{\\vec{r}-\\vec{r_1}}|^{3} }-\\frac{G M_2 m (\\vec{r}-\\vec{r_2}) }{|{\\vec{r}-\\vec{r_2}}|^{3}} - \\,m\\,\\Omega^2 \\vec{r}\n",
      "$$                    "
     ]
    },
    {
     "cell_type": "markdown",
     "metadata": {},
     "source": [
      "$$\\vec{F}_{\\Omega}= -\\frac{G M_1 m ((x+\\alpha R)\\hat{i}+y\\hat{j} )}{((x+\\alpha R)^2+y^2)^{3/2} } \\,-\\, \\frac{G M_2 m ((x-\\beta R)\\hat{i}+y\\hat{j} )}{((x-\\beta R)^2+y^2)^{3/2} }  \\,- \\,m\\,\\Omega^2 \\vec{r}\n",
      "$$                    "
     ]
    },
    {
     "cell_type": "markdown",
     "metadata": {},
     "source": [
      "factorizando $m\\Omega^2$ y agrupando en $x$ y en $y$, se tiene\n",
      "\n",
      "$$\\vec{F}_{\\Omega}= \\Omega^2m\\Bigg( x\\;-\\;\\frac{\\beta (x+\\alpha R)R^3}{((x+\\alpha R)^2+y^2)^{3/2}}\\;-\\;\\frac{\\alpha(x+\\beta R)R^3}{((x-\\beta R)^2+y^2)^{3/2}} \\Bigg) \\hat{i} \\;+ \\\\\n",
      "\\Omega^2m\\Bigg( y\\;-\\;\\frac{\\beta y R^3}{((x+\\alpha R)^2+y^2)^{3/2}}\\;-\\;\\frac{\\alpha y R^3}{((x-\\beta R)^2+y^2)^{3/2}} \\Bigg) \\hat{j}\n",
      "$$"
     ]
    },
    {
     "cell_type": "markdown",
     "metadata": {},
     "source": [
      "Por lo que hay que encontrar los ceros de la funci\u00f3n $\\vec{F_{\\Omega}}$  [1]"
     ]
    },
    {
     "cell_type": "heading",
     "level": 3,
     "metadata": {},
     "source": [
      "M\u00e9todo Newton Raphson multivariable\n"
     ]
    },
    {
     "cell_type": "markdown",
     "metadata": {},
     "source": [
      "Para hallar la ra\u00edces de la funci\u00f3n $\\vec{F_{\\Omega}}$ se usa el m\u00e9todo de newton Raphson multivariable. Para esto se define las condiciones iniciales ($x_0$,$y_0$) m\u00e1s cercanas al punto de la ra\u00edz mediante la gr\u00e1fica de esta funci\u00f3n. Luego se halla $\\frac{\\partial f_1}{\\partial x}$ , $\\frac{\\partial f_1}{\\partial y}$, $\\frac{\\partial f_2}{\\partial x}$ y $\\frac{\\partial f_2}{\\partial y}$ evaluadas en las condiciones iniciales, con el fin de encontrar los puntos ($x_0+\\Delta x$,$y_0+\\Delta y$) m\u00e1s cerca de la ra\u00edz. Estos pasos est\u00e1n dados por:"
     ]
    },
    {
     "cell_type": "markdown",
     "metadata": {},
     "source": [
      "$$\\Delta x= \\frac{-f_1\\frac{\\partial f_2}{\\partial y}+f_2 \\frac{\\partial f_1}{\\partial y}}{\\frac{\\partial f_1}{\\partial x}\\frac{\\partial f_2}{\\partial y}-\\frac{\\partial f_2}{\\partial x}\\frac{\\partial f_1}{\\partial y}}$$"
     ]
    },
    {
     "cell_type": "markdown",
     "metadata": {},
     "source": [
      "$$\\Delta y= \\frac{-f_2\\frac{\\partial f_1}{\\partial x}+f_1 \\frac{\\partial f_2}{\\partial x}}{\\frac{\\partial f_1}{\\partial x}\\frac{\\partial f_2}{\\partial y}-\\frac{\\partial f_2}{\\partial x}\\frac{\\partial f_1}{\\partial y}}$$"
     ]
    },
    {
     "cell_type": "code",
     "collapsed": false,
     "input": [
      "#masa de la luna\n",
      "M_t=1.0\n",
      "#masa del sol en t\u00e9rminos a la masa de la luna\n",
      "M_s=10.0\n",
      "#definiendo alpha y beta\n",
      "a=(M_s)/(M_t+M_s)\n",
      "b=(M_t)/(M_t+M_s)\n",
      "#distancia entre el sol y la Luna en unidades astron\u00f3micas\n",
      "R=1\n"
     ],
     "language": "python",
     "metadata": {},
     "outputs": [],
     "prompt_number": 12
    },
    {
     "cell_type": "code",
     "collapsed": false,
     "input": [
      "#DEFINIENDO LAS FUNCIONES"
     ],
     "language": "python",
     "metadata": {},
     "outputs": [],
     "prompt_number": 13
    },
    {
     "cell_type": "code",
     "collapsed": false,
     "input": [
      "def f_1(x,y):\n",
      "    return x-((b*(x+(a*R))*(R**3))/(((x+(a*R))**2)+(y**2))**1.5)-((a*(x+(b*R))*(R**3))/(((x-(b*R))**2)+(y**2))**1.5)"
     ],
     "language": "python",
     "metadata": {},
     "outputs": [],
     "prompt_number": 14
    },
    {
     "cell_type": "code",
     "collapsed": false,
     "input": [
      "def f_2(x,y):\n",
      "    return y-((b*y*R**3)/((x+(a*R))**2+y**2)**1.5)-((a*y*R**3)/((x-(b*R))**2+y**2)**1.5)"
     ],
     "language": "python",
     "metadata": {},
     "outputs": [],
     "prompt_number": 15
    },
    {
     "cell_type": "code",
     "collapsed": false,
     "input": [
      "def dxf_1(x,y,h):\n",
      "    return (f_1(x+h,y)-f_1(x-h,y))/(2.0*h)"
     ],
     "language": "python",
     "metadata": {},
     "outputs": [],
     "prompt_number": 16
    },
    {
     "cell_type": "code",
     "collapsed": false,
     "input": [
      "def dyf_1(x,y,h):\n",
      "    return (f_1(x,y+h)-f_1(x,y-h))/(2.0*h)"
     ],
     "language": "python",
     "metadata": {},
     "outputs": [],
     "prompt_number": 17
    },
    {
     "cell_type": "code",
     "collapsed": false,
     "input": [
      "def dxf_2(x,y,h):\n",
      "    return (f_2(x+h,y)-f_2(x-h,y))/(2.0*h)"
     ],
     "language": "python",
     "metadata": {},
     "outputs": [],
     "prompt_number": 18
    },
    {
     "cell_type": "code",
     "collapsed": false,
     "input": [
      "def dyf_2(x,y,h):\n",
      "    return (f_2(x,y+h)-f_2(x,y-h))/(2.0*h)"
     ],
     "language": "python",
     "metadata": {},
     "outputs": [],
     "prompt_number": 19
    },
    {
     "cell_type": "code",
     "collapsed": false,
     "input": [
      "#GRAFICANDO"
     ],
     "language": "python",
     "metadata": {},
     "outputs": [],
     "prompt_number": 20
    },
    {
     "cell_type": "code",
     "collapsed": false,
     "input": [
      "m= linspace(-100, 100, 4000)\n",
      "p = linspace(-100, 100, 4000)\n",
      "X,Y = meshgrid(m, p)\n",
      "F_x =f_1(X,Y)\n",
      "F_y=f_2(X,Y)\n",
      "F=((F_x)**2+(F_y)**2)**0.5\n",
      "print np.shape(F_x)\n",
      "print m[1]-m[0]"
     ],
     "language": "python",
     "metadata": {},
     "outputs": [
      {
       "output_type": "stream",
       "stream": "stdout",
       "text": [
        "(4000, 4000)\n",
        "0.0500125031258\n"
       ]
      }
     ],
     "prompt_number": 21
    },
    {
     "cell_type": "code",
     "collapsed": false,
     "input": [
      "import pylab\n",
      "fig = pylab.figure()\n",
      "from mpl_toolkits.mplot3d import Axes3D\n",
      "ax = Axes3D(fig)\n",
      "Axes3D.plot_wireframe(m, p, F)"
     ],
     "language": "python",
     "metadata": {},
     "outputs": [
      {
       "ename": "TypeError",
       "evalue": "unbound method plot_wireframe() must be called with Axes3D instance as first argument (got ndarray instance instead)",
       "output_type": "pyerr",
       "traceback": [
        "\u001b[1;31m---------------------------------------------------------------------------\u001b[0m\n\u001b[1;31mTypeError\u001b[0m                                 Traceback (most recent call last)",
        "\u001b[1;32m<ipython-input-36-06237c11e9e3>\u001b[0m in \u001b[0;36m<module>\u001b[1;34m()\u001b[0m\n\u001b[0;32m      3\u001b[0m \u001b[1;32mfrom\u001b[0m \u001b[0mmpl_toolkits\u001b[0m\u001b[1;33m.\u001b[0m\u001b[0mmplot3d\u001b[0m \u001b[1;32mimport\u001b[0m \u001b[0mAxes3D\u001b[0m\u001b[1;33m\u001b[0m\u001b[0m\n\u001b[0;32m      4\u001b[0m \u001b[0max\u001b[0m \u001b[1;33m=\u001b[0m \u001b[0mAxes3D\u001b[0m\u001b[1;33m(\u001b[0m\u001b[0mfig\u001b[0m\u001b[1;33m)\u001b[0m\u001b[1;33m\u001b[0m\u001b[0m\n\u001b[1;32m----> 5\u001b[1;33m \u001b[0mAxes3D\u001b[0m\u001b[1;33m.\u001b[0m\u001b[0mplot_wireframe\u001b[0m\u001b[1;33m(\u001b[0m\u001b[0mm\u001b[0m\u001b[1;33m,\u001b[0m \u001b[0mp\u001b[0m\u001b[1;33m,\u001b[0m \u001b[0mF\u001b[0m\u001b[1;33m)\u001b[0m\u001b[1;33m\u001b[0m\u001b[0m\n\u001b[0m",
        "\u001b[1;31mTypeError\u001b[0m: unbound method plot_wireframe() must be called with Axes3D instance as first argument (got ndarray instance instead)"
       ]
      },
      {
       "metadata": {},
       "output_type": "display_data",
       "png": "[encoded data removed]",
       "text": [
        "<matplotlib.figure.Figure at 0x7f5ad53c9310>"
       ]
      }
     ],
     "prompt_number": 36
    },
    {
     "cell_type": "code",
     "collapsed": false,
     "input": [
      "#m\u00e9todo de newton Raphson "
     ],
     "language": "python",
     "metadata": {},
     "outputs": []
    },
    {
     "cell_type": "code",
     "collapsed": false,
     "input": [
      "x_guess = 0.6\n",
      "y_guess= 0.8\n",
      "h = 0.01\n",
      "while ((abs(f_1(x_guess,y_guess))  > 1E-5) and (abs(f_2(x_guess,y_guess)) > 1E-5)):\n",
      "    delta_x = ((-f_1(x_guess,y_guess)*dyf_2(x_guess,y_guess,h))+(f_2(x_guess,y_guess)*dyf_1(x_guess,y_guess,h)))/((dxf_1(x_guess,y_guess,h)*dyf_2(x_guess,y_guess,h))-(dxf_2(x_guess,y_guess,h)*dyf_1(x_guess,y_guess,h)))\n",
      "    x_guess = x_guess + delta_x\n",
      "    delta_y = ((-f_2(x_guess,y_guess)*dxf_1(x_guess,y_guess,h))+(f_1(x_guess,y_guess)*dxf_2(x_guess,y_guess,h)))/((dxf_1(x_guess,y_guess,h)*dyf_2(x_guess,y_guess,h))-(dxf_2(x_guess,y_guess,h)*dyf_1(x_guess,y_guess,h)))\n",
      "    y_guess= y_guess + delta_y\n",
      "    print x_guess,y_guess"
     ],
     "language": "python",
     "metadata": {},
     "outputs": [
      {
       "output_type": "stream",
       "stream": "stdout",
       "text": [
        "-0.270900543536 0.657358799317\n",
        "-0.46016508775 0.00946312608959\n",
        "-0.589058281413 7.14128851442e-05\n",
        "-0.585446629835 -6.8704927723e-08\n"
       ]
      }
     ],
     "prompt_number": 35
    },
    {
     "cell_type": "code",
     "collapsed": false,
     "input": [],
     "language": "python",
     "metadata": {},
     "outputs": []
    }
   ],
   "metadata": {}
  }
 ]
}