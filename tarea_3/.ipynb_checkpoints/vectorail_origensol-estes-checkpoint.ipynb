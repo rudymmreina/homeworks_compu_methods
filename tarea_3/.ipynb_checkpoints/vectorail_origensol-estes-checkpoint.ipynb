{
 "metadata": {
  "name": "",
  "signature": "sha256:26cd4e16b8f4a2af5efeee3352a96fe38a6a758142d9f64d6f612e31af41e203"
 },
 "nbformat": 3,
 "nbformat_minor": 0,
 "worksheets": [
  {
   "cells": [
    {
     "cell_type": "code",
     "collapsed": false,
     "input": [
      "%pylab inline\n",
      "import matplotlib.pyplot as plt\n",
      "from mpl_toolkits.mplot3d.axes3d import Axes3D\n"
     ],
     "language": "python",
     "metadata": {},
     "outputs": [
      {
       "output_type": "stream",
       "stream": "stdout",
       "text": [
        "Populating the interactive namespace from numpy and matplotlib\n"
       ]
      },
      {
       "output_type": "stream",
       "stream": "stderr",
       "text": [
        "Vendor:  Continuum Analytics, Inc.\n",
        "Package: mkl\n",
        "Message: trial mode expires in 30 days\n"
       ]
      }
     ],
     "prompt_number": 2
    },
    {
     "cell_type": "heading",
     "level": 1,
     "metadata": {},
     "source": [
      "Puntos de Lagrange"
     ]
    },
    {
     "cell_type": "markdown",
     "metadata": {},
     "source": [
      "Sea un sistema de tres cuerpos donde estan sometidos s\u00f3lo a fuerzas gravitacionales, existen 5 puntos de equilibrio llamados puntos de Lagrange. Por ejemplo, se tienen dos cuerpos grandes en \u00f3rbita circular alrededor de su centro de masas com\u00fan, hay cinco posiciones en el espacio donde un tercer cuerpo, de masa despreciable frente a la de los otros dos, que puede estar situado y mantener su posici\u00f3n relativa respecto a los dos cuerpos grandes.\n",
      "\n",
      "Para encontrar dichos puntos, se considera que:\n",
      "\n",
      "Las masas $M_1$ y $M_2$ son mucho m\u00e1s masivas que el tercer cuerpo $m$.\n",
      "Las masas siguen una \u00f3rbita circular\n",
      "\n",
      "Se busca la soluci\u00f3n a la ecuaci\u00f3n de movimiento en donde la distancia entre los tres cuerpos se mantenga constante.\n",
      "Si $M_1$ y $M_2$ son las masas y $\\vec{r_1}$ y $\\vec{r_2}$ son sus posiciones respectivas. Entonces la fuerza sobre la masa $m$ dadas $M_1$ y $M_2$ (cuyo vector posici\u00f3n es $r$) en un sistema de referencia inercial, estar\u00e1 dado por\n",
      "\n",
      "\n",
      "$$\n",
      "\\vec{F}=-\\frac{G M_1 m (\\vec{r}-\\vec{r_1}) }{|{\\vec{r}-\\vec{r_1}}|^{3} }-\\frac{G M_2 m (\\vec{r}-\\vec{r_2}) }{|{\\vec{r}-\\vec{r_2}}|^{3} }\n",
      "$$                    "
     ]
    },
    {
     "cell_type": "markdown",
     "metadata": {},
     "source": [
      "Para encontrar los puntos de una manera m\u00e1s f\u00e1cil, se considera un marco de referencia no inercial de tal manera que los cuerpos $M_1$ y $M_2$ se mantengan fijos, cuyo origen sea el centro de masas y frecuencia rotacional este dada por:\n",
      "\n",
      "\n",
      "$$\\Omega^2 R^3=G(M_1 + M_2)$$\n",
      "\n",
      "donde $R$ es la distancia entre las dos masas.\n",
      "\n",
      "La fuerza efectiva en el sistema rotacional esta relacionada con la fuerza en el sistema inercial de la siguiente manera:\n",
      "\n",
      "$$\\vec{F}_{\\Omega}= \\vec{F}-2m \\Big(\\vec{\\Omega} \\times \\frac{d\\vec{r}}{dt}\\Big) -m \\vec{\\Omega} \\times \\Big( \\vec{\\Omega}\\times\\vec{r}\\Big)$$\n",
      "\n",
      "Escogiendo un sistema de referencia en el centro de masa, la masa $m$ s\u00f3lo se mover\u00e1 en el plano que determina la velocidad angular $\\Omega$. De tal manera que reescribiendo las posiciones de las masas en este sistema de referencia ser\u00e1:\n",
      "\n",
      "$$\\vec{\\Omega}=\\Omega \\hat{k}$$\n",
      "\n",
      "$$\\vec{r}=x(t)\\hat{i}+y(t)\\hat{j}$$\n",
      "\n",
      "$$\\vec{r_1}=-\\alpha R \\hat{i}$$\n",
      "\n",
      "$$\\vec{r_2}=\\beta R \\hat{i}$$\n",
      "\n",
      "donde \n",
      "\n",
      "$$\\alpha=\\frac{M_2}{M_1+M_2}          \\; \\;     \\beta=\\frac{M_1}{M_1+M_2}$$\n",
      "\n"
     ]
    },
    {
     "cell_type": "markdown",
     "metadata": {},
     "source": [
      "Para encontrar la soluci\u00f3n estacionaria a la ecuaci\u00f3n de movimiento $\\vec{F_{\\Omega}}$ se iguala a cero, adem\u00e1s se debe tener en cuenta que para los puntos de equilibrio estables se considetara que $\\frac{d\\vec{r}}{dt}$ es igual a cero. Reemplazando $\\vec{\\Omega}$, $\\vec{r_1}$, $\\vec{r_2}$ y $\\vec{F}$ en $\\vec{F_{\\Omega}}$, se tiene:\n"
     ]
    },
    {
     "cell_type": "markdown",
     "metadata": {},
     "source": [
      "$$\\vec{F}_{\\Omega}= -\\frac{G M_1 m (\\vec{r}-\\vec{r_1}) }{|{\\vec{r}-\\vec{r_1}}|^{3} }-\\frac{G M_2 m (\\vec{r}-\\vec{r_2}) }{|{\\vec{r}-\\vec{r_2}}|^{3}} - \\,m\\,\\Omega^2 \\vec{r}\n",
      "$$                    "
     ]
    },
    {
     "cell_type": "markdown",
     "metadata": {},
     "source": [
      "$$\\vec{F}_{\\Omega}= -\\frac{G M_1 m ((x+\\alpha R)\\hat{i}+y\\hat{j} )}{((x+\\alpha R)^2+y^2)^{3/2} } \\,-\\, \\frac{G M_2 m ((x-\\beta R)\\hat{i}+y\\hat{j} )}{((x-\\beta R)^2+y^2)^{3/2} }  \\,- \\,m\\,\\Omega^2 \\vec{r}\n",
      "$$                    "
     ]
    },
    {
     "cell_type": "markdown",
     "metadata": {},
     "source": [
      "factorizando $m\\Omega^2$ y agrupando en $x$ y en $y$, se tiene\n",
      "\n",
      "$$\\vec{F}_{\\Omega}= \\Omega^2m\\Bigg( x\\;-\\;\\frac{\\beta (x+\\alpha R)R^3}{((x+\\alpha R)^2+y^2)^{3/2}}\\;-\\;\\frac{\\alpha(x+\\beta R)R^3}{((x-\\beta R)^2+y^2)^{3/2}} \\Bigg) \\hat{i} \\;+ \\\\\n",
      "\\Omega^2m\\Bigg( y\\;-\\;\\frac{\\beta y R^3}{((x+\\alpha R)^2+y^2)^{3/2}}\\;-\\;\\frac{\\alpha y R^3}{((x-\\beta R)^2+y^2)^{3/2}} \\Bigg) \\hat{j}\n",
      "$$"
     ]
    },
    {
     "cell_type": "markdown",
     "metadata": {},
     "source": [
      "Por lo que hay que encontrar los ceros de la funci\u00f3n $\\vec{F_{\\Omega}}$  [1]"
     ]
    },
    {
     "cell_type": "heading",
     "level": 3,
     "metadata": {},
     "source": [
      "M\u00e9todo Newton Raphson multivariable\n"
     ]
    },
    {
     "cell_type": "markdown",
     "metadata": {},
     "source": [
      "Para hallar la ra\u00edces de la funci\u00f3n $\\vec{F_{\\Omega}}$ se usa el m\u00e9todo de newton Raphson multivariable. Para esto se define las condiciones iniciales ($x_0$,$y_0$) m\u00e1s cercanas al punto de la ra\u00edz mediante la gr\u00e1fica de esta funci\u00f3n. Luego se halla $\\frac{\\partial f_1}{\\partial x}$ , $\\frac{\\partial f_1}{\\partial y}$, $\\frac{\\partial f_2}{\\partial x}$ y $\\frac{\\partial f_2}{\\partial y}$ evaluadas en las condiciones iniciales, con el fin de encontrar los puntos ($x_0+\\Delta x$,$y_0+\\Delta y$) m\u00e1s cerca de la ra\u00edz. Estos pasos est\u00e1n dados por:"
     ]
    },
    {
     "cell_type": "markdown",
     "metadata": {},
     "source": [
      "$$\\Delta x= \\frac{-f_1\\frac{\\partial f_2}{\\partial y}+f_2 \\frac{\\partial f_1}{\\partial y}}{\\frac{\\partial f_1}{\\partial x}\\frac{\\partial f_2}{\\partial y}-\\frac{\\partial f_2}{\\partial x}\\frac{\\partial f_1}{\\partial y}}$$"
     ]
    },
    {
     "cell_type": "markdown",
     "metadata": {},
     "source": [
      "$$\\Delta y= \\frac{-f_2\\frac{\\partial f_1}{\\partial x}+f_1 \\frac{\\partial f_2}{\\partial x}}{\\frac{\\partial f_1}{\\partial x}\\frac{\\partial f_2}{\\partial y}-\\frac{\\partial f_2}{\\partial x}\\frac{\\partial f_1}{\\partial y}}$$"
     ]
    },
    {
     "cell_type": "code",
     "collapsed": false,
     "input": [
      "#masa de la luna\n",
      "M_t=1.0\n",
      "#masa del sol en t\u00e9rminos a la masa de la luna\n",
      "M_s=1000\n",
      "#definiendo alpha y beta\n",
      "a=(M_s)/(M_t+M_s)\n",
      "b=(M_t)/(M_t+M_s)\n",
      "#distancia entre el sol y la Luna en unidades astron\u00f3micas\n",
      "R=1\n"
     ],
     "language": "python",
     "metadata": {},
     "outputs": [],
     "prompt_number": 3
    },
    {
     "cell_type": "code",
     "collapsed": false,
     "input": [
      "#DEFINIENDO LAS FUNCIONES"
     ],
     "language": "python",
     "metadata": {},
     "outputs": [],
     "prompt_number": 4
    },
    {
     "cell_type": "code",
     "collapsed": false,
     "input": [
      "def f_1(x,y):\n",
      "    return x-((b*(x-R)*(R**3))/(((x-R)**2)+(y**2))**1.5)-((a*x*(R**3))/(((x)**2)+(y**2))**1.5)"
     ],
     "language": "python",
     "metadata": {},
     "outputs": [],
     "prompt_number": 5
    },
    {
     "cell_type": "code",
     "collapsed": false,
     "input": [
      "def f_2(x,y):\n",
      "    return y-((b*y*R**3)/(((x-R)**2)+(y**2))**1.5)-((a*y*R**3)/((x)**2+y**2)**1.5)"
     ],
     "language": "python",
     "metadata": {},
     "outputs": [],
     "prompt_number": 6
    },
    {
     "cell_type": "code",
     "collapsed": false,
     "input": [
      "def dxf_1(x,y,h):\n",
      "    return (f_1(x+h,y)-f_1(x-h,y))/(2.0*h)"
     ],
     "language": "python",
     "metadata": {},
     "outputs": [],
     "prompt_number": 7
    },
    {
     "cell_type": "code",
     "collapsed": false,
     "input": [
      "def dyf_1(x,y,h):\n",
      "    return (f_1(x,y+h)-f_1(x,y-h))/(2.0*h)"
     ],
     "language": "python",
     "metadata": {},
     "outputs": []
    },
    {
     "cell_type": "code",
     "collapsed": false,
     "input": [
      "def dxf_2(x,y,h):\n",
      "    return (f_2(x+h,y)-f_2(x-h,y))/(2.0*h)"
     ],
     "language": "python",
     "metadata": {},
     "outputs": [],
     "prompt_number": 9
    },
    {
     "cell_type": "code",
     "collapsed": false,
     "input": [
      "def dyf_2(x,y,h):\n",
      "    return (f_2(x,y+h)-f_2(x,y-h))/(2.0*h)"
     ],
     "language": "python",
     "metadata": {},
     "outputs": [],
     "prompt_number": 10
    },
    {
     "cell_type": "code",
     "collapsed": false,
     "input": [
      "#GRAFICANDO"
     ],
     "language": "python",
     "metadata": {},
     "outputs": [],
     "prompt_number": 11
    },
    {
     "cell_type": "code",
     "collapsed": false,
     "input": [
      "m= linspace(-2, 2, 4000)\n",
      "p = linspace(-2, 2, 4000)\n",
      "X,Y = meshgrid(m, p)\n",
      "F_x =f_1(X,Y)\n",
      "F_y=f_2(X,Y)\n",
      "F=((F_x)**2+(F_y)**2)**0.5\n",
      "print np.shape(F_x)\n",
      "print m[1]-m[0]"
     ],
     "language": "python",
     "metadata": {},
     "outputs": [
      {
       "output_type": "stream",
       "stream": "stdout",
       "text": [
        "(4000, 4000)\n",
        "0.00100025006252\n"
       ]
      }
     ],
     "prompt_number": 15
    },
    {
     "cell_type": "code",
     "collapsed": false,
     "input": [
      "fig = plt.figure()\n",
      "ax = fig.add_subplot(111, projection='3d')\n",
      "ax.plot_wireframe(m, p, F, rstride=5, cstride=5)\n",
      "\n",
      "for angle in range(0, 360):\n",
      "    ax.view_init(30, angle)\n",
      "    plt.draw()"
     ],
     "language": "python",
     "metadata": {},
     "outputs": [
      {
       "ename": "KeyboardInterrupt",
       "evalue": "",
       "output_type": "pyerr",
       "traceback": [
        "\u001b[1;31m---------------------------------------------------------------------------\u001b[0m\n\u001b[1;31mKeyboardInterrupt\u001b[0m                         Traceback (most recent call last)",
        "\u001b[1;32m<ipython-input-25-e70f59851641>\u001b[0m in \u001b[0;36m<module>\u001b[1;34m()\u001b[0m\n\u001b[0;32m      5\u001b[0m \u001b[1;32mfor\u001b[0m \u001b[0mangle\u001b[0m \u001b[1;32min\u001b[0m \u001b[0mrange\u001b[0m\u001b[1;33m(\u001b[0m\u001b[1;36m0\u001b[0m\u001b[1;33m,\u001b[0m \u001b[1;36m360\u001b[0m\u001b[1;33m)\u001b[0m\u001b[1;33m:\u001b[0m\u001b[1;33m\u001b[0m\u001b[0m\n\u001b[0;32m      6\u001b[0m     \u001b[0max\u001b[0m\u001b[1;33m.\u001b[0m\u001b[0mview_init\u001b[0m\u001b[1;33m(\u001b[0m\u001b[1;36m30\u001b[0m\u001b[1;33m,\u001b[0m \u001b[0mangle\u001b[0m\u001b[1;33m)\u001b[0m\u001b[1;33m\u001b[0m\u001b[0m\n\u001b[1;32m----> 7\u001b[1;33m     \u001b[0mplt\u001b[0m\u001b[1;33m.\u001b[0m\u001b[0mdraw\u001b[0m\u001b[1;33m(\u001b[0m\u001b[1;33m)\u001b[0m\u001b[1;33m\u001b[0m\u001b[0m\n\u001b[0m",
        "\u001b[1;32m/home/ruddy/anaconda/lib/python2.7/site-packages/matplotlib/pyplot.pyc\u001b[0m in \u001b[0;36mdraw\u001b[1;34m()\u001b[0m\n\u001b[0;32m    553\u001b[0m \u001b[1;33m\u001b[0m\u001b[0m\n\u001b[0;32m    554\u001b[0m     \"\"\"\n\u001b[1;32m--> 555\u001b[1;33m     \u001b[0mget_current_fig_manager\u001b[0m\u001b[1;33m(\u001b[0m\u001b[1;33m)\u001b[0m\u001b[1;33m.\u001b[0m\u001b[0mcanvas\u001b[0m\u001b[1;33m.\u001b[0m\u001b[0mdraw\u001b[0m\u001b[1;33m(\u001b[0m\u001b[1;33m)\u001b[0m\u001b[1;33m\u001b[0m\u001b[0m\n\u001b[0m\u001b[0;32m    556\u001b[0m \u001b[1;33m\u001b[0m\u001b[0m\n\u001b[0;32m    557\u001b[0m \u001b[1;33m\u001b[0m\u001b[0m\n",
        "\u001b[1;32m/home/ruddy/anaconda/lib/python2.7/site-packages/matplotlib/backends/backend_agg.pyc\u001b[0m in \u001b[0;36mdraw\u001b[1;34m(self)\u001b[0m\n\u001b[0;32m    449\u001b[0m \u001b[1;33m\u001b[0m\u001b[0m\n\u001b[0;32m    450\u001b[0m         \u001b[1;32mtry\u001b[0m\u001b[1;33m:\u001b[0m\u001b[1;33m\u001b[0m\u001b[0m\n\u001b[1;32m--> 451\u001b[1;33m             \u001b[0mself\u001b[0m\u001b[1;33m.\u001b[0m\u001b[0mfigure\u001b[0m\u001b[1;33m.\u001b[0m\u001b[0mdraw\u001b[0m\u001b[1;33m(\u001b[0m\u001b[0mself\u001b[0m\u001b[1;33m.\u001b[0m\u001b[0mrenderer\u001b[0m\u001b[1;33m)\u001b[0m\u001b[1;33m\u001b[0m\u001b[0m\n\u001b[0m\u001b[0;32m    452\u001b[0m         \u001b[1;32mfinally\u001b[0m\u001b[1;33m:\u001b[0m\u001b[1;33m\u001b[0m\u001b[0m\n\u001b[0;32m    453\u001b[0m             \u001b[0mRendererAgg\u001b[0m\u001b[1;33m.\u001b[0m\u001b[0mlock\u001b[0m\u001b[1;33m.\u001b[0m\u001b[0mrelease\u001b[0m\u001b[1;33m(\u001b[0m\u001b[1;33m)\u001b[0m\u001b[1;33m\u001b[0m\u001b[0m\n",
        "\u001b[1;32m/home/ruddy/anaconda/lib/python2.7/site-packages/matplotlib/artist.pyc\u001b[0m in \u001b[0;36mdraw_wrapper\u001b[1;34m(artist, renderer, *args, **kwargs)\u001b[0m\n\u001b[0;32m     53\u001b[0m     \u001b[1;32mdef\u001b[0m \u001b[0mdraw_wrapper\u001b[0m\u001b[1;33m(\u001b[0m\u001b[0martist\u001b[0m\u001b[1;33m,\u001b[0m \u001b[0mrenderer\u001b[0m\u001b[1;33m,\u001b[0m \u001b[1;33m*\u001b[0m\u001b[0margs\u001b[0m\u001b[1;33m,\u001b[0m \u001b[1;33m**\u001b[0m\u001b[0mkwargs\u001b[0m\u001b[1;33m)\u001b[0m\u001b[1;33m:\u001b[0m\u001b[1;33m\u001b[0m\u001b[0m\n\u001b[0;32m     54\u001b[0m         \u001b[0mbefore\u001b[0m\u001b[1;33m(\u001b[0m\u001b[0martist\u001b[0m\u001b[1;33m,\u001b[0m \u001b[0mrenderer\u001b[0m\u001b[1;33m)\u001b[0m\u001b[1;33m\u001b[0m\u001b[0m\n\u001b[1;32m---> 55\u001b[1;33m         \u001b[0mdraw\u001b[0m\u001b[1;33m(\u001b[0m\u001b[0martist\u001b[0m\u001b[1;33m,\u001b[0m \u001b[0mrenderer\u001b[0m\u001b[1;33m,\u001b[0m \u001b[1;33m*\u001b[0m\u001b[0margs\u001b[0m\u001b[1;33m,\u001b[0m \u001b[1;33m**\u001b[0m\u001b[0mkwargs\u001b[0m\u001b[1;33m)\u001b[0m\u001b[1;33m\u001b[0m\u001b[0m\n\u001b[0m\u001b[0;32m     56\u001b[0m         \u001b[0mafter\u001b[0m\u001b[1;33m(\u001b[0m\u001b[0martist\u001b[0m\u001b[1;33m,\u001b[0m \u001b[0mrenderer\u001b[0m\u001b[1;33m)\u001b[0m\u001b[1;33m\u001b[0m\u001b[0m\n\u001b[0;32m     57\u001b[0m \u001b[1;33m\u001b[0m\u001b[0m\n",
        "\u001b[1;32m/home/ruddy/anaconda/lib/python2.7/site-packages/matplotlib/figure.pyc\u001b[0m in \u001b[0;36mdraw\u001b[1;34m(self, renderer)\u001b[0m\n\u001b[0;32m   1032\u001b[0m         \u001b[0mdsu\u001b[0m\u001b[1;33m.\u001b[0m\u001b[0msort\u001b[0m\u001b[1;33m(\u001b[0m\u001b[0mkey\u001b[0m\u001b[1;33m=\u001b[0m\u001b[0mitemgetter\u001b[0m\u001b[1;33m(\u001b[0m\u001b[1;36m0\u001b[0m\u001b[1;33m)\u001b[0m\u001b[1;33m)\u001b[0m\u001b[1;33m\u001b[0m\u001b[0m\n\u001b[0;32m   1033\u001b[0m         \u001b[1;32mfor\u001b[0m \u001b[0mzorder\u001b[0m\u001b[1;33m,\u001b[0m \u001b[0ma\u001b[0m\u001b[1;33m,\u001b[0m \u001b[0mfunc\u001b[0m\u001b[1;33m,\u001b[0m \u001b[0margs\u001b[0m \u001b[1;32min\u001b[0m \u001b[0mdsu\u001b[0m\u001b[1;33m:\u001b[0m\u001b[1;33m\u001b[0m\u001b[0m\n\u001b[1;32m-> 1034\u001b[1;33m             \u001b[0mfunc\u001b[0m\u001b[1;33m(\u001b[0m\u001b[1;33m*\u001b[0m\u001b[0margs\u001b[0m\u001b[1;33m)\u001b[0m\u001b[1;33m\u001b[0m\u001b[0m\n\u001b[0m\u001b[0;32m   1035\u001b[0m \u001b[1;33m\u001b[0m\u001b[0m\n\u001b[0;32m   1036\u001b[0m         \u001b[0mrenderer\u001b[0m\u001b[1;33m.\u001b[0m\u001b[0mclose_group\u001b[0m\u001b[1;33m(\u001b[0m\u001b[1;34m'figure'\u001b[0m\u001b[1;33m)\u001b[0m\u001b[1;33m\u001b[0m\u001b[0m\n",
        "\u001b[1;32m/home/ruddy/anaconda/lib/python2.7/site-packages/mpl_toolkits/mplot3d/axes3d.pyc\u001b[0m in \u001b[0;36mdraw\u001b[1;34m(self, renderer)\u001b[0m\n\u001b[0;32m    246\u001b[0m         \u001b[1;31m# Calculate projection of collections and zorder them\u001b[0m\u001b[1;33m\u001b[0m\u001b[1;33m\u001b[0m\u001b[0m\n\u001b[0;32m    247\u001b[0m         zlist = [(col.do_3d_projection(renderer), col) \\\n\u001b[1;32m--> 248\u001b[1;33m                  for col in self.collections]\n\u001b[0m\u001b[0;32m    249\u001b[0m         \u001b[0mzlist\u001b[0m\u001b[1;33m.\u001b[0m\u001b[0msort\u001b[0m\u001b[1;33m(\u001b[0m\u001b[0mkey\u001b[0m\u001b[1;33m=\u001b[0m\u001b[0mitemgetter\u001b[0m\u001b[1;33m(\u001b[0m\u001b[1;36m0\u001b[0m\u001b[1;33m)\u001b[0m\u001b[1;33m,\u001b[0m \u001b[0mreverse\u001b[0m\u001b[1;33m=\u001b[0m\u001b[0mTrue\u001b[0m\u001b[1;33m)\u001b[0m\u001b[1;33m\u001b[0m\u001b[0m\n\u001b[0;32m    250\u001b[0m         \u001b[1;32mfor\u001b[0m \u001b[0mi\u001b[0m\u001b[1;33m,\u001b[0m \u001b[1;33m(\u001b[0m\u001b[0mz\u001b[0m\u001b[1;33m,\u001b[0m \u001b[0mcol\u001b[0m\u001b[1;33m)\u001b[0m \u001b[1;32min\u001b[0m \u001b[0menumerate\u001b[0m\u001b[1;33m(\u001b[0m\u001b[0mzlist\u001b[0m\u001b[1;33m)\u001b[0m\u001b[1;33m:\u001b[0m\u001b[1;33m\u001b[0m\u001b[0m\n",
        "\u001b[1;32m/home/ruddy/anaconda/lib/python2.7/site-packages/mpl_toolkits/mplot3d/art3d.pyc\u001b[0m in \u001b[0;36mdo_3d_projection\u001b[1;34m(self, renderer)\u001b[0m\n\u001b[0;32m    180\u001b[0m         xyslist = [\n\u001b[0;32m    181\u001b[0m             \u001b[0mproj3d\u001b[0m\u001b[1;33m.\u001b[0m\u001b[0mproj_trans_points\u001b[0m\u001b[1;33m(\u001b[0m\u001b[0mpoints\u001b[0m\u001b[1;33m,\u001b[0m \u001b[0mrenderer\u001b[0m\u001b[1;33m.\u001b[0m\u001b[0mM\u001b[0m\u001b[1;33m)\u001b[0m \u001b[1;32mfor\u001b[0m \u001b[0mpoints\u001b[0m \u001b[1;32min\u001b[0m\u001b[1;33m\u001b[0m\u001b[0m\n\u001b[1;32m--> 182\u001b[1;33m             self._segments3d]\n\u001b[0m\u001b[0;32m    183\u001b[0m         \u001b[0msegments_2d\u001b[0m \u001b[1;33m=\u001b[0m \u001b[1;33m[\u001b[0m\u001b[0mzip\u001b[0m\u001b[1;33m(\u001b[0m\u001b[0mxs\u001b[0m\u001b[1;33m,\u001b[0m \u001b[0mys\u001b[0m\u001b[1;33m)\u001b[0m \u001b[1;32mfor\u001b[0m \u001b[1;33m(\u001b[0m\u001b[0mxs\u001b[0m\u001b[1;33m,\u001b[0m \u001b[0mys\u001b[0m\u001b[1;33m,\u001b[0m \u001b[0mzs\u001b[0m\u001b[1;33m)\u001b[0m \u001b[1;32min\u001b[0m \u001b[0mxyslist\u001b[0m\u001b[1;33m]\u001b[0m\u001b[1;33m\u001b[0m\u001b[0m\n\u001b[0;32m    184\u001b[0m         \u001b[0mLineCollection\u001b[0m\u001b[1;33m.\u001b[0m\u001b[0mset_segments\u001b[0m\u001b[1;33m(\u001b[0m\u001b[0mself\u001b[0m\u001b[1;33m,\u001b[0m \u001b[0msegments_2d\u001b[0m\u001b[1;33m)\u001b[0m\u001b[1;33m\u001b[0m\u001b[0m\n",
        "\u001b[1;32m/home/ruddy/anaconda/lib/python2.7/site-packages/mpl_toolkits/mplot3d/proj3d.pyc\u001b[0m in \u001b[0;36mproj_trans_points\u001b[1;34m(points, M)\u001b[0m\n\u001b[0;32m    208\u001b[0m \u001b[1;33m\u001b[0m\u001b[0m\n\u001b[0;32m    209\u001b[0m \u001b[1;32mdef\u001b[0m \u001b[0mproj_trans_points\u001b[0m\u001b[1;33m(\u001b[0m\u001b[0mpoints\u001b[0m\u001b[1;33m,\u001b[0m \u001b[0mM\u001b[0m\u001b[1;33m)\u001b[0m\u001b[1;33m:\u001b[0m\u001b[1;33m\u001b[0m\u001b[0m\n\u001b[1;32m--> 210\u001b[1;33m     \u001b[0mxs\u001b[0m\u001b[1;33m,\u001b[0m \u001b[0mys\u001b[0m\u001b[1;33m,\u001b[0m \u001b[0mzs\u001b[0m \u001b[1;33m=\u001b[0m \u001b[0mzip\u001b[0m\u001b[1;33m(\u001b[0m\u001b[1;33m*\u001b[0m\u001b[0mpoints\u001b[0m\u001b[1;33m)\u001b[0m\u001b[1;33m\u001b[0m\u001b[0m\n\u001b[0m\u001b[0;32m    211\u001b[0m     \u001b[1;32mreturn\u001b[0m \u001b[0mproj_transform\u001b[0m\u001b[1;33m(\u001b[0m\u001b[0mxs\u001b[0m\u001b[1;33m,\u001b[0m \u001b[0mys\u001b[0m\u001b[1;33m,\u001b[0m \u001b[0mzs\u001b[0m\u001b[1;33m,\u001b[0m \u001b[0mM\u001b[0m\u001b[1;33m)\u001b[0m\u001b[1;33m\u001b[0m\u001b[0m\n\u001b[0;32m    212\u001b[0m \u001b[1;33m\u001b[0m\u001b[0m\n",
        "\u001b[1;31mKeyboardInterrupt\u001b[0m: "
       ]
      },
      {
       "metadata": {},
       "output_type": "display_data",
       "png": "[encoded data removed]",
       "text": [
        "<matplotlib.figure.Figure at 0x7fb50657cb50>"
       ]
      }
     ],
     "prompt_number": 25
    },
    {
     "cell_type": "code",
     "collapsed": false,
     "input": [
      "#m\u00e9todo de newton Raphson "
     ],
     "language": "python",
     "metadata": {},
     "outputs": [],
     "prompt_number": 29
    },
    {
     "cell_type": "code",
     "collapsed": false,
     "input": [
      "x_guess = 1.3\n",
      "y_guess= 1.3\n",
      "h = m[1]-m[0]\n",
      "while ((abs(f_1(x_guess,y_guess))  > 1E-5) and (abs(f_2(x_guess,y_guess)) > 1E-5)):\n",
      "    delta_x = ((-f_1(x_guess,y_guess)*dyf_2(x_guess,y_guess,h))+(f_2(x_guess,y_guess)*dyf_1(x_guess,y_guess,h)))/((dxf_1(x_guess,y_guess,h)*dyf_2(x_guess,y_guess,h))-(dxf_2(x_guess,y_guess,h)*dyf_1(x_guess,y_guess,h)))\n",
      "    x_guess = x_guess + delta_x\n",
      "    delta_y = ((-f_2(x_guess,y_guess)*dxf_1(x_guess,y_guess,h))+(f_1(x_guess,y_guess)*dxf_2(x_guess,y_guess,h)))/((dxf_1(x_guess,y_guess,h)*dyf_2(x_guess,y_guess,h))-(dxf_2(x_guess,y_guess,h)*dyf_1(x_guess,y_guess,h)))\n",
      "    y_guess= y_guess + delta_y\n",
      "print x_guess,y_guess"
     ],
     "language": "python",
     "metadata": {},
     "outputs": [
      {
       "output_type": "stream",
       "stream": "stdout",
       "text": [
        "0.0598326075456 0.995859757079\n"
       ]
      }
     ],
     "prompt_number": 24
    },
    {
     "cell_type": "code",
     "collapsed": false,
     "input": [],
     "language": "python",
     "metadata": {},
     "outputs": []
    }
   ],
   "metadata": {}
  }
 ]
}