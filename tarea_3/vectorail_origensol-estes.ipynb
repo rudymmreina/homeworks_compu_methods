{
 "metadata": {
  "name": "",
  "signature": "sha256:aeb9e60711206e82411c21fcd544729ae749fe38882805b2714e6ce0d0cad050"
 },
 "nbformat": 3,
 "nbformat_minor": 0,
 "worksheets": [
  {
   "cells": [
    {
     "cell_type": "code",
     "collapsed": false,
     "input": [
      "%pylab inline\n",
      "import matplotlib.pyplot as plt\n",
      "from mpl_toolkits.mplot3d.axes3d import Axes3D\n"
     ],
     "language": "python",
     "metadata": {},
     "outputs": [
      {
       "output_type": "stream",
       "stream": "stdout",
       "text": [
        "Populating the interactive namespace from numpy and matplotlib\n"
       ]
      }
     ],
     "prompt_number": 3
    },
    {
     "cell_type": "code",
     "collapsed": false,
     "input": [
      "#masa de la luna\n",
      "M_t=1.0\n",
      "#masa del sol en t\u00e9rminos a la masa de la luna\n",
      "M_s=1000\n",
      "#definiendo alpha y beta\n",
      "a=(M_s)/(M_t+M_s)\n",
      "b=(M_t)/(M_t+M_s)\n",
      "#distancia entre el sol y la Luna en unidades astron\u00f3micas\n",
      "R=1\n"
     ],
     "language": "python",
     "metadata": {},
     "outputs": [],
     "prompt_number": 4
    },
    {
     "cell_type": "code",
     "collapsed": false,
     "input": [
      "#DEFINIENDO LAS FUNCIONES"
     ],
     "language": "python",
     "metadata": {},
     "outputs": [],
     "prompt_number": 4
    },
    {
     "cell_type": "code",
     "collapsed": false,
     "input": [
      "def f_1(x,y):\n",
      "    return x-((b*(x-R)*(R**3))/(((x-R)**2)+(y**2))**1.5)-((a*x*(R**3))/(((x)**2)+(y**2))**1.5)"
     ],
     "language": "python",
     "metadata": {},
     "outputs": [],
     "prompt_number": 5
    },
    {
     "cell_type": "code",
     "collapsed": false,
     "input": [
      "def f_2(x,y):\n",
      "    return y-((b*y*R**3)/(((x-R)**2)+(y**2))**1.5)-((a*y*R**3)/((x)**2+y**2)**1.5)"
     ],
     "language": "python",
     "metadata": {},
     "outputs": [],
     "prompt_number": 6
    },
    {
     "cell_type": "code",
     "collapsed": false,
     "input": [
      "def f_3(x,y):\n",
      "    return "
     ],
     "language": "python",
     "metadata": {},
     "outputs": []
    },
    {
     "cell_type": "code",
     "collapsed": false,
     "input": [
      "def dxf_1(x,y,h):\n",
      "    return (f_1(x+h,y)-f_1(x-h,y))/(2.0*h)"
     ],
     "language": "python",
     "metadata": {},
     "outputs": [],
     "prompt_number": 7
    },
    {
     "cell_type": "code",
     "collapsed": false,
     "input": [
      "def dyf_1(x,y,h):\n",
      "    return (f_1(x,y+h)-f_1(x,y-h))/(2.0*h)"
     ],
     "language": "python",
     "metadata": {},
     "outputs": [],
     "prompt_number": 8
    },
    {
     "cell_type": "code",
     "collapsed": false,
     "input": [
      "def dxf_2(x,y,h):\n",
      "    return (f_2(x+h,y)-f_2(x-h,y))/(2.0*h)"
     ],
     "language": "python",
     "metadata": {},
     "outputs": [],
     "prompt_number": 9
    },
    {
     "cell_type": "code",
     "collapsed": false,
     "input": [
      "def dyf_2(x,y,h):\n",
      "    return (f_2(x,y+h)-f_2(x,y-h))/(2.0*h)"
     ],
     "language": "python",
     "metadata": {},
     "outputs": [],
     "prompt_number": 10
    },
    {
     "cell_type": "code",
     "collapsed": false,
     "input": [
      "#m\u00e9todo de newton Raphson "
     ],
     "language": "python",
     "metadata": {},
     "outputs": [],
     "prompt_number": 29
    },
    {
     "cell_type": "code",
     "collapsed": false,
     "input": [
      "x_guess = -1.3\n",
      "y_guess= 0\n",
      "h = 0.01\n",
      "while ((abs(f_1(x_guess,y_guess))  > 1E-5) and (abs(f_2(x_guess,y_guess)) > 1E-5)):\n",
      "    delta_x = ((-f_1(x_guess,y_guess)*dyf_2(x_guess,y_guess,h))+(f_2(x_guess,y_guess)*dyf_1(x_guess,y_guess,h)))/((dxf_1(x_guess,y_guess,h)*dyf_2(x_guess,y_guess,h))-(dxf_2(x_guess,y_guess,h)*dyf_1(x_guess,y_guess,h)))\n",
      "    x_guess = x_guess + delta_x\n",
      "    delta_y = ((-f_2(x_guess,y_guess)*dxf_1(x_guess,y_guess,h))+(f_1(x_guess,y_guess)*dxf_2(x_guess,y_guess,h)))/((dxf_1(x_guess,y_guess,h)*dyf_2(x_guess,y_guess,h))-(dxf_2(x_guess,y_guess,h)*dyf_1(x_guess,y_guess,h)))\n",
      "    y_guess= y_guess + delta_y\n",
      "print x_guess,y_guess\n"
     ],
     "language": "python",
     "metadata": {},
     "outputs": [
      {
       "output_type": "stream",
       "stream": "stdout",
       "text": [
        "-1.3 0\n"
       ]
      }
     ],
     "prompt_number": 15
    },
    {
     "cell_type": "code",
     "collapsed": false,
     "input": [],
     "language": "python",
     "metadata": {},
     "outputs": []
    }
   ],
   "metadata": {}
  }
 ]
}