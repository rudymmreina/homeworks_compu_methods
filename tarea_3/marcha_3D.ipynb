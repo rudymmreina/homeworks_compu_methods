{
 "metadata": {
  "name": "",
  "signature": "sha256:8d811c860ab3d075eda141c87737bd12c06a827bac2eae68d48fe691c1e6a525"
 },
 "nbformat": 3,
 "nbformat_minor": 0,
 "worksheets": [
  {
   "cells": [
    {
     "cell_type": "code",
     "collapsed": false,
     "input": [
      "%pylab #inline\n",
      "#import matplotlib.pyplot as plt\n",
      "\n",
      "\n"
     ],
     "language": "python",
     "metadata": {},
     "outputs": [
      {
       "output_type": "stream",
       "stream": "stdout",
       "text": [
        "Populating the interactive namespace from numpy and matplotlib\n"
       ]
      }
     ],
     "prompt_number": 1
    },
    {
     "cell_type": "code",
     "collapsed": false,
     "input": [
      "#print random.random()"
     ],
     "language": "python",
     "metadata": {},
     "outputs": [],
     "prompt_number": 208
    },
    {
     "cell_type": "code",
     "collapsed": false,
     "input": [
      "#variables\n",
      "#D es la distancia al que va llegar con la marcha aleatoria\n",
      "#d es la longitud del vector D\n",
      "#x,y,z posicion del objeto en coordenadas cartesianas\n",
      "#R desplazamiento del objeto en desde el origen\n",
      "#M n\u00famero de marchas aleatorias\n",
      "D = numpy.arange(10, 510, +10)\n",
      "d= len(D)\n",
      "M=20\n",
      "\n"
     ],
     "language": "python",
     "metadata": {},
     "outputs": [],
     "prompt_number": 209
    },
    {
     "cell_type": "code",
     "collapsed": false,
     "input": [
      "J=[]\n",
      "for k in range(d):\n",
      "    for l in range(M):\n",
      "        r=0\n",
      "        j=0\n",
      "        x=0\n",
      "        y=0\n",
      "        z=0\n",
      "        X=0\n",
      "        Y=0\n",
      "        Z=0\n",
      "        R=0\n",
      "        while(R<=D[k]):\n",
      "            x = (x + 2.0*(random.random()-0.5))\n",
      "            y = (y + 2.0*(random.random()-0.5))\n",
      "            z = (z + 2.0*(random.random()-0.5))\n",
      "            r=((x**2)+(y**2)+(z**2))**0.5\n",
      "            X=x/r\n",
      "            Y=y/r\n",
      "            Z=Z/r\n",
      "            R=R+((X**2)+(Y**2)+(Z**2))**0.5\n",
      "            j=j+1\n",
      "        J.append(j)"
     ],
     "language": "python",
     "metadata": {},
     "outputs": [],
     "prompt_number": 210
    },
    {
     "cell_type": "code",
     "collapsed": false,
     "input": [
      "#print J\n",
      "Z=np.reshape(J,(d,M))\n",
      "#print Z"
     ],
     "language": "python",
     "metadata": {},
     "outputs": [],
     "prompt_number": 215
    },
    {
     "cell_type": "code",
     "collapsed": false,
     "input": [
      "def estadistica(valores):\n",
      "    suma=0\n",
      "    for x in valores:\n",
      "        suma+=x\n",
      "       # print x\n",
      "    prom=suma/float(len(valores))\n",
      "    #print prom\n",
      "    suma_dif_cuadrado=0\n",
      "    for x in valores:\n",
      "        suma_dif_cuadrado+=(prom-x)**2\n",
      "        #print suma_dif_cuadrado\n",
      "    varianza=suma_dif_cuadrado/float(len(valores)-1)\n",
      "    return prom,sqrt(varianza)"
     ],
     "language": "python",
     "metadata": {},
     "outputs": [],
     "prompt_number": 251
    },
    {
     "cell_type": "code",
     "collapsed": false,
     "input": [
      "def promedio(valores):\n",
      "    s=sum(valores)/len(valores)\n",
      "    return s"
     ],
     "language": "python",
     "metadata": {},
     "outputs": [],
     "prompt_number": 248
    },
    {
     "cell_type": "code",
     "collapsed": false,
     "input": [
      "print Z[0]"
     ],
     "language": "python",
     "metadata": {},
     "outputs": [
      {
       "output_type": "stream",
       "stream": "stdout",
       "text": [
        "[17 12 12 14 14 11 14 11 11 12 11 11 16 14 13 23 12 11 14 15]\n"
       ]
      }
     ],
     "prompt_number": 249
    },
    {
     "cell_type": "code",
     "collapsed": false,
     "input": [
      "s=estadistica(Z[0])"
     ],
     "language": "python",
     "metadata": {},
     "outputs": [],
     "prompt_number": 253
    },
    {
     "cell_type": "code",
     "collapsed": false,
     "input": [
      "for i in range(len(Z)):\n",
      "    s=estadistica(Z[i])\n",
      "    A=np.array( [D[i],s[0],s[1]])\n",
      "    print A"
     ],
     "language": "python",
     "metadata": {},
     "outputs": [
      {
       "output_type": "stream",
       "stream": "stdout",
       "text": [
        "[ 10.          13.4          2.89100238]\n",
        "[ 20.          27.3          5.61107927]\n",
        "[ 30.          38.1          6.90461326]\n",
        "[ 40.          53.4          9.02277819]\n",
        "[ 50.          65.6         14.03529386]\n",
        "[ 60.          85.3         16.92428961]\n",
        "[  70.          103.5          42.55708241]\n",
        "[  80.          107.8          32.99377932]\n",
        "[  90.          114.45         14.13645902]\n",
        "[ 100.          142.1          54.43769979]\n",
        "[ 110.          146.6          43.57618857]\n",
        "[ 120.          162.25         49.39089518]\n",
        "[ 130.          177.8          36.41948582]\n",
        "[ 140.          180.7          30.77268098]\n",
        "[ 150.          204.95         91.36939197]\n",
        "[ 160.          209.1          45.61267137]\n",
        "[ 170.          224.1          49.24257892]\n",
        "[ 180.          257.35         72.54129495]\n",
        "[ 190.         249.35        39.4612068]\n",
        "[ 200.          293.45         88.65217366]\n",
        "[ 210.          298.65         72.23301111]\n",
        "[ 220.         292.          73.0652196]\n",
        "[ 230.         296.8         61.4136964]\n",
        "[ 240.          317.55         64.57673934]\n",
        "[ 250.          305.45         53.60034858]\n",
        "[ 260.          338.6          64.09893669]\n",
        "[ 270.          366.65        136.07593662]\n",
        "[ 280.          349.2          77.55310574]\n",
        "[ 290.          365.55         97.49357604]\n",
        "[ 300.          438.2         105.91535846]\n",
        "[ 310.          376.3          46.57433221]\n",
        "[ 320.          432.          115.64555649]\n",
        "[ 330.          423.65         70.62076257]\n",
        "[ 340.          478.25        107.74427571]\n",
        "[ 350.          483.2         130.36733527]\n",
        "[ 360.          505.6         199.78472625]\n",
        "[ 370.          517.55        134.72212142]\n",
        "[ 380.          511.45        165.20337546]\n",
        "[ 390.          542.4         168.60492594]\n",
        "[ 400.          500.15        105.86052144]\n",
        "[ 410.          530.9         147.33559973]\n",
        "[ 420.          554.9          82.93935641]\n",
        "[ 430.         578.85       104.9843472]\n",
        "[ 440.          570.9         117.62469308]\n",
        "[ 450.          581.9         140.23773049]\n",
        "[ 460.          559.5          76.69042347]\n",
        "[ 470.          624.1         147.41809501]\n",
        "[ 480.         627.3        107.3891595]\n",
        "[ 490.          588.3          68.70156667]\n",
        "[ 500.          630.85        117.54160518]\n"
       ]
      }
     ],
     "prompt_number": 262
    },
    {
     "cell_type": "code",
     "collapsed": false,
     "input": [
      "f = open(\"final_stats_3D_M.dat\", \"w\")\n",
      "for i in range(len(Z)):\n",
      "    s=estadistica(Z[i])\n",
      "    A=np.array( [D[i],s[0],s[1]])\n",
      "    f.write(str(D[i])+\" \"+str(s[0])+\" \"+str(s[1])+\"\\n\")\n",
      "f.close()"
     ],
     "language": "python",
     "metadata": {},
     "outputs": [],
     "prompt_number": 264
    },
    {
     "cell_type": "code",
     "collapsed": false,
     "input": [],
     "language": "python",
     "metadata": {},
     "outputs": []
    }
   ],
   "metadata": {}
  }
 ]
}