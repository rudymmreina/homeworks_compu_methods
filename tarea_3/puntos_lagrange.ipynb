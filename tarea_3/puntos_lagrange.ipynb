{
 "metadata": {
  "name": "",
  "signature": "sha256:e288d79fabd1e5f6f4a46070d832bcd6fbec0d9a2dfb4b1c78f27f4957f11941"
 },
 "nbformat": 3,
 "nbformat_minor": 0,
 "worksheets": [
  {
   "cells": [
    {
     "cell_type": "code",
     "collapsed": false,
     "input": [
      "%pylab inline\n",
      "import matplotlib.pyplot as plt\n",
      "from mpl_toolkits.mplot3d.axes3d import Axes3D\n"
     ],
     "language": "python",
     "metadata": {},
     "outputs": [
      {
       "output_type": "stream",
       "stream": "stdout",
       "text": [
        "Populating the interactive namespace from numpy and matplotlib\n"
       ]
      }
     ],
     "prompt_number": 2
    },
    {
     "cell_type": "heading",
     "level": 1,
     "metadata": {},
     "source": [
      "Puntos de Lagrange"
     ]
    },
    {
     "cell_type": "markdown",
     "metadata": {},
     "source": [
      "Sea un sistema de tres cuerpos donde estan sometidos s\u00f3lo a fuerzas gravitacionales, existen 5 puntos de equilibrio llamados puntos de Lagrange. Por ejemplo, se tienen dos cuerpos grandes en \u00f3rbita circular alrededor de su centro de masas com\u00fan, hay cinco posiciones en el espacio donde un tercer cuerpo, de masa despreciable frente a la de los otros dos, que puede estar situado y mantener su posici\u00f3n relativa respecto a los dos cuerpos grandes.\n",
      "\n",
      "Para encontrar dichos puntos, se considera que:\n",
      "\n",
      "Las masas $M_1$ y $M_2$ son mucho m\u00e1s masivas que el tercer cuerpo $m$.\n",
      "Las masas siguen una \u00f3rbita circular\n",
      "\n",
      "Se busca la soluci\u00f3n a la ecuaci\u00f3n de movimiento en donde la distancia entre los tres cuerpos se mantenga constante.\n",
      "Si $M_1$ y $M_2$ son las masas y $\\vec{r_1}$ y $\\vec{r_2}$ son sus posiciones respectivas. Entonces la fuerza sobre la masa $m$ dadas $M_1$ y $M_2$ (cuyo vector posici\u00f3n es $r$) en un sistema de referencia inercial, estar\u00e1 dado por\n",
      "\n",
      "\n",
      "$$\n",
      "\\vec{F}=-\\frac{G M_1 m (\\vec{r}-\\vec{r_1}) }{|{\\vec{r}-\\vec{r_1}}|^{3} }-\\frac{G M_2 m (\\vec{r}-\\vec{r_2}) }{|{\\vec{r}-\\vec{r_2}}|^{3} }\n",
      "$$                    "
     ]
    },
    {
     "cell_type": "markdown",
     "metadata": {},
     "source": [
      "Para encontrar los puntos de una manera m\u00e1s f\u00e1cil, se considera un marco de referencia no inercial de tal manera que los cuerpos $M_1$ y $M_2$ se mantengan fijos, cuyo origen sea el centro de masas y frecuencia rotacional este dada por:\n",
      "\n",
      "\n",
      "$$\\Omega^2 R^3=G(M_1 + M_2)$$\n",
      "\n",
      "donde $R$ es la distancia entre las dos masas.\n",
      "\n",
      "La fuerza efectiva en el sistema rotacional esta relacionada con la fuerza en el sistema inercial de la siguiente manera:\n",
      "\n",
      "$$\\vec{F}_{\\Omega}= \\vec{F}-2m \\Big(\\vec{\\Omega} \\times \\frac{d\\vec{r}}{dt}\\Big) -m \\vec{\\Omega} \\times \\Big( \\vec{\\Omega}\\times\\vec{r}\\Big)$$\n",
      "\n",
      "y el potencial generalizado esta dado por\n",
      "\n",
      "$$U_{\\Omega}=U-\\vec{v} \\cdot (\\vec{\\Omega} \\times \\vec{r}) +\\frac{1}{2}(\\vec{\\Omega} \\times \\vec{r}) \\cdot (\\vec{\\Omega} \\times \\vec{r}) $$\n",
      "\n",
      "\n",
      "\n"
     ]
    },
    {
     "cell_type": "markdown",
     "metadata": {},
     "source": [
      "La dependiencia de la velocidad del potencial  no influencia la posici\u00f3n de los puntos de equilibrio, se considera que el sistema se encuentra en reposo relativo.\n",
      "\n",
      "\n",
      "Por lo tanto $U_{\\Omega}$ en los puntos de equilibrio estar\u00e1 expresado por\n",
      "\n"
     ]
    },
    {
     "cell_type": "markdown",
     "metadata": {},
     "source": [
      "$$U_{\\Omega}=U +\\frac{1}{2}(\\vec{\\Omega} \\times \\vec{r}) \\cdot (\\vec{\\Omega} \\times \\vec{r}) $$\n",
      "\n",
      "$$U_{\\Omega}= \\frac{GM_1}{|\\vec{r}-\\vec{r_1}|}+\\frac{GM_2}{|\\vec{r}-\\vec{r_2}|}+\\frac{1}{2}(\\vec{\\Omega} \\times \\vec{r}) \\cdot (\\vec{\\Omega} \\times \\vec{r})$$"
     ]
    },
    {
     "cell_type": "markdown",
     "metadata": {},
     "source": [
      "Escogiendo un sistema de referencia en el centro de masa, la masa $m$ s\u00f3lo se mover\u00e1 en el plano que determina la velocidad angular $\\Omega$. De tal manera que reescribiendo las posiciones de las masas en este sistema de referencia ser\u00e1:\n",
      "\n",
      "$$\\vec{\\Omega}=\\Omega \\hat{k}$$\n",
      "\n",
      "$$\\vec{r}=x(t)\\hat{i}+y(t)\\hat{j}$$\n",
      "\n",
      "$$\\vec{r_1}=-\\alpha R \\hat{i}$$\n",
      "\n",
      "$$\\vec{r_2}=\\beta R \\hat{i}$$\n",
      "\n",
      "donde \n",
      "\n",
      "$$\\alpha=\\frac{M_2}{M_1+M_2}          \\; \\;     \\beta=\\frac{M_1}{M_1+M_2}$$"
     ]
    },
    {
     "cell_type": "markdown",
     "metadata": {},
     "source": [
      "Para encontrar los puntos de equilibrio se deben encontrar las coordenadas $x$ y $y$ donde $U_{\\Omega}=0$\n",
      "\n",
      "Reemplazando $\\vec{r_1}$, $\\vec{r_2}$, $\\vec{r}$ y $\\Omega^2$ se tiene\n"
     ]
    },
    {
     "cell_type": "markdown",
     "metadata": {},
     "source": [
      "$$U_{\\Omega}= \\frac{GM_1}{\\sqrt{(x-\\alpha R)^2+y^2}}+ \\frac{GM_2}{\\sqrt{(x+\\beta R)^2+y^2}} +\\frac{1}{2}\\Omega^2(x^2+y^2)$$"
     ]
    },
    {
     "cell_type": "markdown",
     "metadata": {},
     "source": [
      "$$U_{\\Omega}= \\frac{GM_1}{\\sqrt{(x-\\alpha R)^2+y^2}}+ \\frac{GM_2}{\\sqrt{(x+\\beta R)^2+y^2}} +\\frac{1}{2}\\frac{G(M_1+M_2)}{R^3}(x^2+y^2)$$"
     ]
    },
    {
     "cell_type": "heading",
     "level": 3,
     "metadata": {},
     "source": [
      "M\u00e9todo Newton Raphson multivariable\n"
     ]
    },
    {
     "cell_type": "markdown",
     "metadata": {},
     "source": [
      "Para hallar la ra\u00edces de la funci\u00f3n $U_{\\Omega}$ se usa el m\u00e9todo de newton Raphson multivariable. Para esto se define las condiciones iniciales ($x_0$,$y_0$) m\u00e1s cercanas al punto de la ra\u00edz mediante la gr\u00e1fica de esta funci\u00f3n. Luego se halla $\\frac{\\partial f_1}{\\partial x}$ , $\\frac{\\partial f_1}{\\partial y}$, $\\frac{\\partial f_2}{\\partial x}$ y $\\frac{\\partial f_2}{\\partial y}$ evaluadas en las condiciones iniciales, con el fin de encontrar los puntos ($x_0+\\Delta x$,$y_0+\\Delta y$) m\u00e1s cerca de la ra\u00edz. Estos pasos est\u00e1n dados por:"
     ]
    },
    {
     "cell_type": "markdown",
     "metadata": {},
     "source": [
      "$$\\Delta x= \\frac{-f_1\\frac{\\partial f_2}{\\partial y}+f_2 \\frac{\\partial f_1}{\\partial y}}{\\frac{\\partial f_1}{\\partial x}\\frac{\\partial f_2}{\\partial y}-\\frac{\\partial f_2}{\\partial x}\\frac{\\partial f_1}{\\partial y}}$$"
     ]
    },
    {
     "cell_type": "markdown",
     "metadata": {},
     "source": [
      "$$\\Delta y= \\frac{-f_2\\frac{\\partial f_1}{\\partial x}+f_1 \\frac{\\partial f_2}{\\partial x}}{\\frac{\\partial f_1}{\\partial x}\\frac{\\partial f_2}{\\partial y}-\\frac{\\partial f_2}{\\partial x}\\frac{\\partial f_1}{\\partial y}}$$"
     ]
    },
    {
     "cell_type": "code",
     "collapsed": false,
     "input": [
      "#masa de la luna\n",
      "M_l=1.0\n",
      "#masa del sol en t\u00e9rminos a la masa de la luna\n",
      "M_s=333.0\n",
      "#definiendo alpha y beta\n",
      "a=(M_s)/(M_l+M_s)\n",
      "b=(M_l)/(M_l+M_s)\n",
      "#distancia entre el sol y la Luna en unidades astron\u00f3micas\n",
      "R=1\n"
     ],
     "language": "python",
     "metadata": {},
     "outputs": [],
     "prompt_number": 3
    },
    {
     "cell_type": "code",
     "collapsed": false,
     "input": [
      "#DEFINIENDO LAS FUNCIONES"
     ],
     "language": "python",
     "metadata": {},
     "outputs": [],
     "prompt_number": 4
    },
    {
     "cell_type": "code",
     "collapsed": false,
     "input": [
      "def f(x,y):\n",
      "    return ((M_l)/((x-a*R)^2+y^2)**0.5)+()+()"
     ],
     "language": "python",
     "metadata": {},
     "outputs": [],
     "prompt_number": 1
    },
    {
     "cell_type": "code",
     "collapsed": false,
     "input": [
      "def f_2(x,y):\n",
      "    return x-((b*y*R**3)/((x+(a*R))**2+y**2)**1.5)-((a*y*R**3)/((x-(b*R))**2+y**2)**1.5)"
     ],
     "language": "python",
     "metadata": {},
     "outputs": [],
     "prompt_number": 6
    },
    {
     "cell_type": "code",
     "collapsed": false,
     "input": [
      "#DEFINIENDO LAS DERIVADAS PARCIALES"
     ],
     "language": "python",
     "metadata": {},
     "outputs": [],
     "prompt_number": 7
    },
    {
     "cell_type": "code",
     "collapsed": false,
     "input": [
      "def dxf_1(x,y,h):\n",
      "    return (f_1(x+h,y)-f_1(x-h,y))/(2.0*h)"
     ],
     "language": "python",
     "metadata": {},
     "outputs": [],
     "prompt_number": 8
    },
    {
     "cell_type": "code",
     "collapsed": false,
     "input": [
      "def dyf_1(x,y,h):\n",
      "    return (f_1(x,y+h)-f_1(x,y-h))/(2.0*h)"
     ],
     "language": "python",
     "metadata": {},
     "outputs": [],
     "prompt_number": 9
    },
    {
     "cell_type": "code",
     "collapsed": false,
     "input": [
      "def dxf_2(x,y,h):\n",
      "    return (f_2(x+h,y)-f_2(x-h,y))/(2.0*h)"
     ],
     "language": "python",
     "metadata": {},
     "outputs": [],
     "prompt_number": 10
    },
    {
     "cell_type": "code",
     "collapsed": false,
     "input": [
      "def dyf_2(x,y,h):\n",
      "    return (f_2(x,y+h)-f_2(x,y-h))/(2.0*h)"
     ],
     "language": "python",
     "metadata": {},
     "outputs": [],
     "prompt_number": 11
    },
    {
     "cell_type": "code",
     "collapsed": false,
     "input": [
      "#GRAFICANDO"
     ],
     "language": "python",
     "metadata": {},
     "outputs": [],
     "prompt_number": 12
    },
    {
     "cell_type": "code",
     "collapsed": false,
     "input": [
      "m= linspace(-2, 2, 10000)\n",
      "p = linspace(-2, 2, 10000)\n",
      "X,Y = meshgrid(m, p)\n",
      "F_x =f_1(X,Y)\n",
      "F_y=f_2(X,Y)"
     ],
     "language": "python",
     "metadata": {},
     "outputs": [],
     "prompt_number": 13
    },
    {
     "cell_type": "code",
     "collapsed": false,
     "input": [
      "fig = plt.figure(figsize=(8,6))\n",
      "\n",
      "ax = fig.add_subplot(1,1,1, projection='3d')\n",
      "\n",
      "ax.plot_surface(X, Y, F_x, rstride=4, cstride=4, alpha=0.25)\n",
      "cset = ax.contour(X, Y, F_x, zdir='z', offset=-2, cmap=cm.coolwarm)\n",
      "cset = ax.contour(X, Y, F_x, zdir='x', offset=-2, cmap=cm.coolwarm)\n",
      "cset = ax.contour(X, Y, F_x, zdir='y', offset=4, cmap=cm.coolwarm)\n",
      "\n",
      "ax.set_xlim3d(-2, 2);\n",
      "ax.set_ylim3d(-2, 2);\n",
      "ax.set_zlim3d(-4, 4);"
     ],
     "language": "python",
     "metadata": {},
     "outputs": []
    },
    {
     "cell_type": "code",
     "collapsed": false,
     "input": [],
     "language": "python",
     "metadata": {},
     "outputs": []
    }
   ],
   "metadata": {}
  }
 ]
}