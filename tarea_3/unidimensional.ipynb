{
 "metadata": {
  "name": "",
  "signature": "sha256:808c0c7f6ccd4c90a279adbf42a11a8a25d52a79da97e7851c58cbbd00b16bb1"
 },
 "nbformat": 3,
 "nbformat_minor": 0,
 "worksheets": [
  {
   "cells": [
    {
     "cell_type": "code",
     "collapsed": false,
     "input": [
      "%pylab inline\n",
      "import matplotlib.pyplot as plt\n",
      "from mpl_toolkits.mplot3d.axes3d import Axes3D\n"
     ],
     "language": "python",
     "metadata": {},
     "outputs": [
      {
       "output_type": "stream",
       "stream": "stdout",
       "text": [
        "Populating the interactive namespace from numpy and matplotlib\n"
       ]
      }
     ],
     "prompt_number": 4
    },
    {
     "cell_type": "heading",
     "level": 1,
     "metadata": {},
     "source": [
      "Puntos de Lagrange"
     ]
    },
    {
     "cell_type": "markdown",
     "metadata": {},
     "source": [
      "Sea un sistema de tres cuerpos donde estan sometidos s\u00f3lo a fuerzas gravitacionales, existen 5 puntos de equilibrio llamados puntos de Lagrange. Por ejemplo, se tienen dos cuerpos grandes en \u00f3rbita circular alrededor de su centro de masas com\u00fan, hay cinco posiciones en el espacio donde un tercer cuerpo, de masa despreciable frente a la de los otros dos, que puede estar situado y mantener su posici\u00f3n relativa respecto a los dos cuerpos grandes.\n",
      "\n",
      "Para encontrar dichos puntos, se considera que:\n",
      "\n",
      "Las masas $M_1$ y $M_2$ son mucho m\u00e1s masivas que el tercer cuerpo $m$.\n",
      "Las masas siguen una \u00f3rbita circular\n",
      "\n",
      "Se busca la soluci\u00f3n a la ecuaci\u00f3n de movimiento en donde la distancia entre los tres cuerpos se mantenga constante.\n",
      "Si $M_1$ y $M_2$ son las masas y $\\vec{r_1}$ y $\\vec{r_2}$ son sus posiciones respectivas. Entonces la fuerza sobre la masa $m$ dadas $M_1$ y $M_2$ (cuyo vector posici\u00f3n es $r$) en un sistema de referencia inercial, estar\u00e1 dado por\n",
      "\n",
      "\n",
      "$$\n",
      "\\vec{F}=-\\frac{G M_1 m (\\vec{r}-\\vec{r_1}) }{|{\\vec{r}-\\vec{r_1}}|^{3} }-\\frac{G M_2 m (\\vec{r}-\\vec{r_2}) }{|{\\vec{r}-\\vec{r_2}}|^{3} }\n",
      "$$                    "
     ]
    },
    {
     "cell_type": "markdown",
     "metadata": {},
     "source": [
      "Para encontrar los puntos de una manera m\u00e1s f\u00e1cil, se considera un marco de referencia no inercial de tal manera que los cuerpos $M_1$ y $M_2$ se mantengan fijos, cuyo origen sea el centro de masas y frecuencia rotacional este dada por:\n",
      "\n",
      "\n",
      "$$\\Omega^2 R^3=G(M_1 + M_2)$$\n",
      "\n",
      "donde $R$ es la distancia entre las dos masas.\n",
      "\n",
      "La fuerza efectiva en el sistema rotacional esta relacionada con la fuerza en el sistema inercial de la siguiente manera:\n",
      "\n",
      "$$\\vec{F}_{\\Omega}= \\vec{F}-2m \\Big(\\vec{\\Omega} \\times \\frac{d\\vec{r}}{dt}\\Big) -m \\vec{\\Omega} \\times \\Big( \\vec{\\Omega}\\times\\vec{r}\\Big)$$\n",
      "\n",
      "Escogiendo un sistema de referencia en el centro de masa, la masa $m$ s\u00f3lo se mover\u00e1 en el plano que determina la velocidad angular $\\Omega$. De tal manera que reescribiendo las posiciones de las masas en este sistema de referencia ser\u00e1:\n",
      "\n",
      "$$\\vec{\\Omega}=\\Omega \\hat{k}$$\n",
      "\n",
      "$$\\vec{r}=x(t)\\hat{i}+y(t)\\hat{j}$$\n",
      "\n",
      "$$\\vec{r_1}=-\\alpha R \\hat{i}$$\n",
      "\n",
      "$$\\vec{r_2}=\\beta R \\hat{i}$$\n",
      "\n",
      "donde \n",
      "\n",
      "$$\\alpha=\\frac{M_2}{M_1+M_2}          \\; \\;     \\beta=\\frac{M_1}{M_1+M_2}$$\n",
      "\n"
     ]
    },
    {
     "cell_type": "markdown",
     "metadata": {},
     "source": [
      "Para encontrar la soluci\u00f3n estacionaria a la ecuaci\u00f3n de movimiento $\\vec{F_{\\Omega}}$ se iguala a cero, adem\u00e1s se debe tener en cuenta que para los puntos de equilibrio estables se considetara que $\\frac{d\\vec{r}}{dt}$ es igual a cero. Reemplazando $\\vec{\\Omega}$, $\\vec{r_1}$, $\\vec{r_2}$ y $\\vec{F}$ en $\\vec{F_{\\Omega}}$, se tiene:\n"
     ]
    },
    {
     "cell_type": "markdown",
     "metadata": {},
     "source": [
      "$$\\vec{F}_{\\Omega}= -\\frac{G M_1 m (\\vec{r}-\\vec{r_1}) }{|{\\vec{r}-\\vec{r_1}}|^{3} }-\\frac{G M_2 m (\\vec{r}-\\vec{r_2}) }{|{\\vec{r}-\\vec{r_2}}|^{3}} - \\,m\\,\\Omega^2 \\vec{r}\n",
      "$$                    "
     ]
    },
    {
     "cell_type": "markdown",
     "metadata": {},
     "source": [
      "$$\\vec{F}_{\\Omega}= -\\frac{G M_1 m ((x+\\alpha R)\\hat{i}+y\\hat{j} )}{((x+\\alpha R)^2+y^2)^{3/2} } \\,-\\, \\frac{G M_2 m ((x-\\beta R)\\hat{i}+y\\hat{j} )}{((x-\\beta R)^2+y^2)^{3/2} }  \\,- \\,m\\,\\Omega^2 \\vec{r}\n",
      "$$                    "
     ]
    },
    {
     "cell_type": "markdown",
     "metadata": {},
     "source": [
      "factorizando $m\\Omega^2$ y agrupando en $x$ y en $y$, se tiene\n",
      "\n",
      "$$\\vec{F}_{\\Omega}= \\Omega^2m\\Bigg( x\\;-\\;\\frac{\\beta (x+\\alpha R)R^3}{((x+\\alpha R)^2+y^2)^{3/2}}\\;-\\;\\frac{\\alpha(x+\\beta R)R^3}{((x-\\beta R)^2+y^2)^{3/2}} \\Bigg) \\hat{i} \\;+ \\\\\n",
      "\\Omega^2m\\Bigg( y\\;-\\;\\frac{\\beta y R^3}{((x+\\alpha R)^2+y^2)^{3/2}}\\;-\\;\\frac{\\alpha y R^3}{((x-\\beta R)^2+y^2)^{3/2}} \\Bigg) \\hat{j}\n",
      "$$"
     ]
    },
    {
     "cell_type": "markdown",
     "metadata": {},
     "source": [
      "Por lo que hay que encontrar los ceros de la funci\u00f3n $\\vec{F_{\\Omega}}$  [1]"
     ]
    },
    {
     "cell_type": "heading",
     "level": 3,
     "metadata": {},
     "source": [
      "M\u00e9todo Newton Raphson multivariable\n"
     ]
    },
    {
     "cell_type": "markdown",
     "metadata": {},
     "source": [
      "Para hallar la ra\u00edces de la funci\u00f3n $\\vec{F_{\\Omega}}$ se usa el m\u00e9todo de newton Raphson multivariable. Para esto se define las condiciones iniciales ($x_0$,$y_0$) m\u00e1s cercanas al punto de la ra\u00edz mediante la gr\u00e1fica de esta funci\u00f3n. Luego se halla $\\frac{\\partial f_1}{\\partial x}$ , $\\frac{\\partial f_1}{\\partial y}$, $\\frac{\\partial f_2}{\\partial x}$ y $\\frac{\\partial f_2}{\\partial y}$ evaluadas en las condiciones iniciales, con el fin de encontrar los puntos ($x_0+\\Delta x$,$y_0+\\Delta y$) m\u00e1s cerca de la ra\u00edz. Estos pasos est\u00e1n dados por:"
     ]
    },
    {
     "cell_type": "markdown",
     "metadata": {},
     "source": [
      "$$\\Delta x= \\frac{-f_1\\frac{\\partial f_2}{\\partial y}+f_2 \\frac{\\partial f_1}{\\partial y}}{\\frac{\\partial f_1}{\\partial x}\\frac{\\partial f_2}{\\partial y}-\\frac{\\partial f_2}{\\partial x}\\frac{\\partial f_1}{\\partial y}}$$"
     ]
    },
    {
     "cell_type": "markdown",
     "metadata": {},
     "source": [
      "$$\\Delta y= \\frac{-f_2\\frac{\\partial f_1}{\\partial x}+f_1 \\frac{\\partial f_2}{\\partial x}}{\\frac{\\partial f_1}{\\partial x}\\frac{\\partial f_2}{\\partial y}-\\frac{\\partial f_2}{\\partial x}\\frac{\\partial f_1}{\\partial y}}$$"
     ]
    },
    {
     "cell_type": "code",
     "collapsed": false,
     "input": [
      "#masa de la luna\n",
      "M_t=0.001\n",
      "#masa del sol en t\u00e9rminos a la masa de la luna\n",
      "M_s=1\n",
      "#definiendo alpha y beta\n",
      "a=(M_s)/(M_t+M_s)\n",
      "b=(M_t)/(M_t+M_s)\n",
      "#distancia entre el sol y la Luna en unidades astron\u00f3micas\n",
      "R=1\n"
     ],
     "language": "python",
     "metadata": {},
     "outputs": [],
     "prompt_number": 7
    },
    {
     "cell_type": "code",
     "collapsed": false,
     "input": [
      "#DEFINIENDO LAS FUNCIONES"
     ],
     "language": "python",
     "metadata": {},
     "outputs": [],
     "prompt_number": 8
    },
    {
     "cell_type": "code",
     "collapsed": false,
     "input": [
      "def f_1(x):\n",
      "    return (((M_t)/(x**2))-((M_s)/(R-x)**2)+(M_s/R**2)-(x*(M_t+M_s)/R**3))"
     ],
     "language": "python",
     "metadata": {},
     "outputs": [],
     "prompt_number": 9
    },
    {
     "cell_type": "code",
     "collapsed": false,
     "input": [
      "def dxf_1(x,h):\n",
      "    \n",
      "    return (f_1(x+h)-f_1(x-h))/(2.0*h)"
     ],
     "language": "python",
     "metadata": {},
     "outputs": [],
     "prompt_number": 10
    },
    {
     "cell_type": "code",
     "collapsed": false,
     "input": [
      "#GRAFICANDO"
     ],
     "language": "python",
     "metadata": {},
     "outputs": [],
     "prompt_number": 11
    },
    {
     "cell_type": "code",
     "collapsed": false,
     "input": [
      "x = linspace(-0.7,1.3,100)\n",
      "plot(x, f_1(x))\n",
      "#ylim([-10,3])"
     ],
     "language": "python",
     "metadata": {},
     "outputs": [
      {
       "metadata": {},
       "output_type": "pyout",
       "prompt_number": 13,
       "text": [
        "[<matplotlib.lines.Line2D at 0x7f8a1f56dfd0>]"
       ]
      },
      {
       "metadata": {},
       "output_type": "display_data",
       "png": "[encoded data removed]",
       "text": [
        "<matplotlib.figure.Figure at 0x7f8a3c170ad0>"
       ]
      }
     ],
     "prompt_number": 13
    },
    {
     "cell_type": "code",
     "collapsed": false,
     "input": [
      "#h = plt.contourf(m,p,F_x(X,Y))"
     ],
     "language": "python",
     "metadata": {},
     "outputs": [],
     "prompt_number": 17
    },
    {
     "cell_type": "code",
     "collapsed": false,
     "input": [
      "#m\u00e9todo de newton Raphson "
     ],
     "language": "python",
     "metadata": {},
     "outputs": []
    },
    {
     "cell_type": "code",
     "collapsed": false,
     "input": [
      "x_guess = 2\n",
      "h = 0.001\n",
      "while ((abs(f_1(x_guess))  > 1E-2) ):\n",
      "    delta_x = -(f_1(x_guess))/(dxf_1(x_guess,h))\n",
      "    x_guess = x_guess + delta_x\n",
      "print x_guess"
     ],
     "language": "python",
     "metadata": {},
     "outputs": [
      {
       "output_type": "stream",
       "stream": "stdout",
       "text": [
        "0.0675307617852\n"
       ]
      }
     ],
     "prompt_number": 14
    },
    {
     "cell_type": "code",
     "collapsed": false,
     "input": [
      "def f_3(x,y):\n",
      "    return x-((b*(x-R)*(R**3))/(((x-R)**2)+(y**2))**1.5)-((a*x*(R**3))/(((x)**2)+(y**2))**1.5)"
     ],
     "language": "python",
     "metadata": {},
     "outputs": [],
     "prompt_number": 15
    },
    {
     "cell_type": "code",
     "collapsed": false,
     "input": [
      "def dxf_3(x,y,h):\n",
      "    return (f_3(x+h,y)-f_3(x-h,y))/(2.0*h)"
     ],
     "language": "python",
     "metadata": {},
     "outputs": [],
     "prompt_number": 16
    },
    {
     "cell_type": "code",
     "collapsed": false,
     "input": [
      "x_guess = 4\n",
      "y=0\n",
      "h = 0.001\n",
      "while (abs(f_3(x_guess,y)) > 1E-4):\n",
      "    delta_x = -(f_3(x_guess,y))/(dxf_3(x_guess,y,h))\n",
      "    x_guess = x_guess + delta_x\n",
      "P=np.array([0,x_guess])\n",
      "print \"L_1 es\",x_guess,P"
     ],
     "language": "python",
     "metadata": {},
     "outputs": [
      {
       "output_type": "stream",
       "stream": "stdout",
       "text": [
        "L_1 es 0.932208041176 [ 0.          0.93220804]\n"
       ]
      }
     ],
     "prompt_number": 37
    },
    {
     "cell_type": "code",
     "collapsed": false,
     "input": [
      "x_guess = -2\n",
      "y=0\n",
      "h = 0.001\n",
      "while (abs(f_3(x_guess,y)) > 1E-4):\n",
      "    delta_x = -(f_3(x_guess,y))/(dxf_3(x_guess,y,h))\n",
      "    x_guess = x_guess + delta_x\n",
      "Q=np.array([0,x_guess])\n",
      "print \"L_2 es\",x_guess,Q"
     ],
     "language": "python",
     "metadata": {},
     "outputs": [
      {
       "output_type": "stream",
       "stream": "stdout",
       "text": [
        "L_2 es -0.999747694542 [ 0.         -0.99974769]\n"
       ]
      }
     ],
     "prompt_number": 39
    },
    {
     "cell_type": "code",
     "collapsed": false,
     "input": [
      "print \"L_3 no me sale :(\""
     ],
     "language": "python",
     "metadata": {},
     "outputs": [
      {
       "output_type": "stream",
       "stream": "stdout",
       "text": [
        "L_3 no me sale :(\n"
       ]
      }
     ],
     "prompt_number": 22
    },
    {
     "cell_type": "code",
     "collapsed": false,
     "input": [
      "f = open(\"puntos_lagrange.dat\", \"w\")\n",
      "f.write(str(x)+\" \"+str(y)+\"\\n\")\n",
      "f.write(str(P[0])+\" \"+str(P[1])+\"\\n\")\n",
      "f.write(str(Q[0])+\" \"+str(Q[1])+\"\\n\")\n",
      "f.close()"
     ],
     "language": "python",
     "metadata": {},
     "outputs": [],
     "prompt_number": 41
    },
    {
     "cell_type": "code",
     "collapsed": false,
     "input": [],
     "language": "python",
     "metadata": {},
     "outputs": []
    }
   ],
   "metadata": {}
  }
 ]
}