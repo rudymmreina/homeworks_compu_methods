{
 "metadata": {
  "name": "",
  "signature": "sha256:906fabe569ef29591801ddc3e28f0771d8290497d98eff179fdff56d51db817b"
 },
 "nbformat": 3,
 "nbformat_minor": 0,
 "worksheets": []
}